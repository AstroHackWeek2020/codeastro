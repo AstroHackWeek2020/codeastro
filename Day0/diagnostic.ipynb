{
 "cells": [
  {
   "cell_type": "markdown",
   "metadata": {},
   "source": [
    "# Code/Astro Diagnostic\n",
    "\n",
    "Hello, and welcome to your first Code/Astro assignment! This is a set of exercises designed to assess your fundamental knowledge of the Python programming language. Don't worry about getting everything right. Feel free to use the internet (online Python tutorials, etc.) to help you complete this diagnostic. If you can do every exercise here, even if you didn't get some of them the first time, you're prepared for Code/Astro.\n",
    "\n",
    "If you're confused or stuck, please email Sarah (sblunt@caltech.edu). Don't spend more than a few minutes on each exercise; if you can't figure it out after 15 minutes, it's time to ask for help!"
   ],
   "execution_count": null,
   "outputs": []
  },
  {
   "cell_type": "markdown",
   "metadata": {},
   "source": [
    "### I: Types and Variables"
   ],
   "execution_count": null,
   "outputs": []
  },
  {
   "cell_type": "markdown",
   "metadata": {},
   "source": [
    "**1.1.** Describe the following types:\n",
    "\n",
    "- `int`\n",
    "- `str`\n",
    "- `float`\n",
    "- `tuple`\n",
    "- `dict`\n",
    "- `bool`\n",
    "- `numpy.array`\n",
    "\n",
    "**1.2.** Identify the types of the following Python objects (one per line):"
   ],
   "execution_count": null,
   "outputs": []
  },
  {
   "cell_type": "code",
   "execution_count": null,
   "metadata": {},
   "outputs": [],
   "source": [
    "\"foo\"\n",
    "1.2\n",
    "{\"foo\": 1, \"bar\": 6}\n",
    "100\n",
    "'bar'\n",
    "(1, 2, 3)\n",
    "1e4\n",
    "6 + 1.2"
   ]
  },
  {
   "cell_type": "markdown",
   "metadata": {},
   "source": [
    "**1.3.** Check your work using the `type()` function. An example is below."
   ],
   "execution_count": null,
   "outputs": []
  },
  {
   "cell_type": "code",
   "execution_count": null,
   "metadata": {},
   "outputs": [],
   "source": [
    "print(type(True))"
   ]
  },
  {
   "cell_type": "markdown",
   "metadata": {},
   "source": [
    "**1.4.** What is the `type` of the object `foo` in the code snippet below? Comment the fourth line in to check."
   ],
   "execution_count": null,
   "outputs": []
  },
  {
   "cell_type": "code",
   "execution_count": null,
   "metadata": {},
   "outputs": [],
   "source": [
    "def foo(bar):\n",
    "    return bar\n",
    "\n",
    "# type(foo)"
   ]
  },
  {
   "cell_type": "markdown",
   "metadata": {},
   "source": [
    "**1.5.** What is the `type` of the variable `foo` in the code snippet below?"
   ],
   "execution_count": null,
   "outputs": []
  },
  {
   "cell_type": "code",
   "execution_count": null,
   "metadata": {},
   "outputs": [],
   "source": [
    "foo = 5 + 3.4"
   ]
  },
  {
   "cell_type": "markdown",
   "metadata": {},
   "source": [
    "**1.6** Access the first element of the following array, and assign it to the variable `foo`."
   ],
   "execution_count": null,
   "outputs": []
  },
  {
   "cell_type": "code",
   "execution_count": null,
   "metadata": {},
   "outputs": [],
   "source": [
    "import numpy as np\n",
    "\n",
    "my_arr = np.array([1, 2, 3])"
   ]
  },
  {
   "cell_type": "markdown",
   "metadata": {},
   "source": [
    "**1.7.** Access the value with key `foo` in the following dictionary, and assign it to the variable `bar`."
   ],
   "execution_count": null,
   "outputs": []
  },
  {
   "cell_type": "code",
   "execution_count": null,
   "metadata": {},
   "outputs": [],
   "source": [
    "my_dict = {'foo': 1, 'bar': 2}"
   ]
  },
  {
   "cell_type": "markdown",
   "metadata": {},
   "source": [
    "### II: Functions and Classes"
   ],
   "execution_count": null,
   "outputs": []
  },
  {
   "cell_type": "markdown",
   "metadata": {},
   "source": [
    "**2.1** Define a function that takes in two integers and returns their product."
   ],
   "execution_count": null,
   "outputs": []
  },
  {
   "cell_type": "code",
   "execution_count": null,
   "metadata": {},
   "outputs": [],
   "source": []
  },
  {
   "cell_type": "markdown",
   "metadata": {},
   "source": [
    "**2.2** Define a recursive function that computes the factorial of an integer."
   ],
   "execution_count": null,
   "outputs": []
  },
  {
   "cell_type": "code",
   "execution_count": null,
   "metadata": {},
   "outputs": [],
   "source": []
  },
  {
   "cell_type": "markdown",
   "metadata": {},
   "source": [
    "Let's define and play with a simple class."
   ],
   "execution_count": null,
   "outputs": []
  },
  {
   "cell_type": "code",
   "execution_count": null,
   "metadata": {},
   "outputs": [],
   "source": [
    "class Numbers(object):\n",
    "    \n",
    "    def __init__(self, a, b):\n",
    "        self.a = a\n",
    "        self.b = b\n",
    "        \n",
    "    def num_sum(self):\n",
    "        return self.a + self.b\n",
    "    \n",
    "    def num_prod(self):\n",
    "        return self.a * self.b\n",
    "    \n",
    "myNumbers = Numbers(1, 2)\n",
    "my_sum = myNumbers.num_sum()"
   ]
  },
  {
   "cell_type": "markdown",
   "metadata": {},
   "source": [
    "**2.3** Use the `Numbers` class to find the product of 100 and 350, and assign the result to the variable `my_prod`."
   ],
   "execution_count": null,
   "outputs": []
  },
  {
   "cell_type": "code",
   "execution_count": null,
   "metadata": {},
   "outputs": [],
   "source": []
  },
  {
   "cell_type": "markdown",
   "metadata": {},
   "source": [
    "**2.4** Define a class `Integers` that inherets from `Numbers`. It should have an additional method, `fact_product` that computes the factorial of the product of two numbers. Instantiate your `Integers` class and compute the product of the factorial of 10 and 2 (you can use the function you defined in **2.2**)."
   ],
   "execution_count": null,
   "outputs": []
  },
  {
   "cell_type": "code",
   "execution_count": null,
   "metadata": {},
   "outputs": [],
   "source": []
  },
  {
   "cell_type": "markdown",
   "metadata": {},
   "source": [
    "### III. Imports"
   ],
   "execution_count": null,
   "outputs": []
  },
  {
   "cell_type": "markdown",
   "metadata": {},
   "source": [
    "**3.1** Consider the following line of code:\n",
    "\n",
    "``import scipy.ndimage``\n",
    "\n",
    "Using this line of code as an example, explain the difference between packages and modules."
   ],
   "execution_count": null,
   "outputs": []
  },
  {
   "cell_type": "code",
   "execution_count": null,
   "metadata": {},
   "outputs": [],
   "source": []
  },
  {
   "cell_type": "markdown",
   "metadata": {},
   "source": [
    "**3.2** I want to use following functions from python's `math` module: `sqrt`, `sin`, `cos`, `tan`. Write a single line of code that exports all four of these functions (there are multiple solutions)."
   ],
   "execution_count": null,
   "outputs": []
  },
  {
   "cell_type": "code",
   "execution_count": null,
   "metadata": {},
   "outputs": [],
   "source": []
  },
  {
   "cell_type": "markdown",
   "metadata": {},
   "source": [
    "### IV: String Formatting"
   ],
   "execution_count": null,
   "outputs": []
  },
  {
   "cell_type": "markdown",
   "metadata": {},
   "source": [
    "**4.1** Use string formatting to print out the randomly generated number stored in the variable `rand` to 5 decimal places. For example, if the random number is 0.12984737, the output should be `0.12985`. In the code below, we have already generated the random number for you."
   ],
   "execution_count": null,
   "outputs": []
  },
  {
   "cell_type": "code",
   "execution_count": null,
   "metadata": {},
   "outputs": [],
   "source": [
    "import random\n",
    "rand = random.random()\n",
    "\n",
    "# print somethere here"
   ]
  },
  {
   "cell_type": "code",
   "execution_count": null,
   "metadata": {},
   "outputs": [],
   "source": []
  },
  {
   "cell_type": "markdown",
   "metadata": {},
   "source": [
    "**4.2** Use string formatting to print out your python version and your python executable directory. We have stored your python executable directory in `sys.prefix`, your python major version number in `python_version_major`, and your python minor version number in `python_version_minor`. For exampe, if my python executable is in `/home/codeastro/anaconda3`, my python major version number is `3`, and my python minor version number is `8`, I should print out the following:\n",
    "\n",
    "`Python 3.8 can be run from /home/codeastro/anaconda3 folder`"
   ],
   "execution_count": null,
   "outputs": []
  },
  {
   "cell_type": "code",
   "execution_count": null,
   "metadata": {},
   "outputs": [],
   "source": [
    "import sys\n",
    "python_dir = sys.prefix\n",
    "python_version_major = sys.version_info.major\n",
    "python_version_minor = sys.version_info.minor\n",
    "\n",
    "### print something here"
   ]
  },
  {
   "cell_type": "code",
   "execution_count": null,
   "metadata": {},
   "outputs": [],
   "source": []
  }
 ],
 "metadata": {
  "kernelspec": {
   "display_name": "Python 3",
   "language": "python",
   "name": "python3"
  },
  "language_info": {
   "codemirror_mode": {
    "name": "ipython",
    "version": 3
   },
   "file_extension": ".py",
   "mimetype": "text/x-python",
   "name": "python",
   "nbconvert_exporter": "python",
   "pygments_lexer": "ipython3",
   "version": "3.6.5-final"
  }
 },
 "nbformat": 4,
 "nbformat_minor": 4
}