{
 "cells": [
  {
   "cell_type": "markdown",
   "metadata": {},
   "source": [
    "# Harnessing Matplotlib & Astropy"
   ]
  },
  {
   "cell_type": "markdown",
   "metadata": {},
   "source": [
    "## Matplotlib.pyplot\n",
    "\n",
    "### General tips:\n",
    "- **Don't overengineer your plotting code.** This means you don't need to add a million keywords anticipating every possible tweak your users might wish to make. Focus on making it easy for your users to modify the code themselves. Make sure you return `Figure` and `Axes` objects (more on this below) to your user so they can easily modify plots.\n",
    "- **Apply principles of good design.** This means using color palettes with lots of contrast, making your fonts large and easy-to-read, and making sure your plots are colorblind friendly. (There are several great colorblindness simulators out there, for example [this one](https://www.color-blindness.com/coblis-color-blindness-simulator/).) It's also good to differentiate plot elements in more than one way (ex: one line is black and dashed, another is red and solid). \n",
    "\n",
    "### This Tutorial:\n",
    "\n",
    "`matplotlib.pyplot` is a powerful graphics module often used by Python developers. (Check out [this gallery](https://matplotlib.org/gallery.html) to get a sense of what you can do with pyplot.) This is by no means a comprehensive tutorial, but it will point out a few important things about `matplotlib.pyplot` objects and give advice about incorporating plotting functionality in your open-source astronomy software.\n",
    "\n",
    "There are other (excellent) plotting tools in common practice in astronomy, especially plotly and bokeh. We encourage you to look into these tools as well, but we'll only discuss `matplotlib.pyplot` here."
   ]
  },
  {
   "cell_type": "markdown",
   "metadata": {},
   "source": [
    "### Tutorial Starts Here.\n",
    "\n",
    "`matplotlib.pyplot` relies on the concept of *changing state*. An excellent example of this concept is the `matplotlib.Rcparams` object, which is like a dictionary of attributes that control the \"default\" behaviors of matplotlib plots. Let's use the `update()` method of this object to change the default font size:\n"
   ]
  },
  {
   "cell_type": "code",
   "execution_count": null,
   "metadata": {},
   "outputs": [],
   "source": [
    "from matplotlib import rcParams\n",
    "import matplotlib.pyplot as plt\n",
    "\n",
    "# make a plot\n",
    "plt.figure()\n",
    "plt.xlabel('foo'); plt.ylabel('bar')\n",
    "\n",
    "# update the current state\n",
    "rcParams.update({'font.size': 22})\n",
    "print('The current font size is {}.'.format(rcParams['font.size']))\n",
    "\n",
    "# make another plot\n",
    "plt.figure()\n",
    "plt.xlabel('foo'); plt.ylabel('bar', fontsize=10)\n",
    "\n",
    "# update the current state again\n",
    "rcParams.update({'font.size': 12})\n",
    "print('Now, the current font size is {}.'.format(rcParams['font.size']))"
   ]
  },
  {
   "cell_type": "markdown",
   "metadata": {},
   "source": [
    "As you can see, `matplotlib` decides on a default font size by checking the *current* value of the state parameter `rcParams['font.size']`, but this is always overwritten if you pass in a keyword (in this case, the font size of the y axis label).\n",
    "\n",
    "The basic \"unit\" of `matplotlib.pyplot` is [the `Figure` object](https://matplotlib.org/3.2.1/api/_as_genmatplotlib.figure.Figure.html#matplotlib.figure.Figure), which acts as container for all the other plot elements. Let's look at a few different ways to create a `Figure` object:"
   ]
  },
  {
   "cell_type": "code",
   "execution_count": null,
   "metadata": {},
   "outputs": [],
   "source": [
    "import numpy as np\n",
    "\n",
    "# create some sample data\n",
    "x = np.array([1, 2, 3, 4])\n",
    "y = np.array([1, 4, 9, 16])\n",
    "y_error = np.array([5, 1.2, 2, 5])\n",
    "\n",
    "fig = plt.figure() # initializes a `Figure` object\n",
    "plt.errorbar(      # plots onto the current `Figure`\n",
    "    x, y, y_error, ls='', fmt=\"*\"  \n",
    ")  \n",
    "\n",
    "print(type(fig))"
   ]
  },
  {
   "cell_type": "markdown",
   "metadata": {},
   "source": [
    "The current figure changes (i.e. the *state* is updated) when you initialize a new `Figure` object. Unless you specify a particular `Figure` object, `plt.___()` functions will always add to the current `Figure` object. That is a nice feature-- it makes it easy to add multiple types of plots onto the same figure.\n",
    "\n",
    "Let's look at another way to initialize a new `Figure` object:"
   ]
  },
  {
   "cell_type": "code",
   "execution_count": null,
   "metadata": {},
   "outputs": [],
   "source": [
    "fig, ax = plt.subplots(nrows=1, ncols=2, figsize=(10, 5))\n",
    "\n",
    "ax[0].plot(x, y)\n",
    "ax[1].plot(x, y)\n",
    "ax[1].set_yscale('log')\n",
    "\n",
    "print(type(fig))\n",
    "print(type(ax))\n",
    "print(type(ax[0]))"
   ]
  },
  {
   "cell_type": "markdown",
   "metadata": {},
   "source": [
    "Here we've encounter another kind of object: [the `Axes` object](https://matplotlib.org/api/axes_api.html#matplotlib.axes.Axes). These objects are containers for all the plot elements *in a particular figure panel*. `Axes` are attributes of `Figure` objects:"
   ]
  },
  {
   "cell_type": "code",
   "execution_count": null,
   "metadata": {},
   "outputs": [],
   "source": [
    "fig.axes[0].set_xlim(1, 3)\n",
    "fig"
   ]
  },
  {
   "cell_type": "markdown",
   "metadata": {},
   "source": [
    "Two useful methods to keep in mind are `plt.gca()` and `plt.sca()` (get/set current `Axes`). Let's see how they work:"
   ]
  },
  {
   "cell_type": "code",
   "execution_count": null,
   "metadata": {},
   "outputs": [],
   "source": [
    "fig, ax = plt.subplots(nrows=2, ncols=2)\n",
    "\n",
    "mystery_axes = plt.gca()              # get current Axes\n",
    "mystery_axes.scatter(x, y, color='k') # acts on `mystery_axes`\n",
    "\n",
    "plt.sca(ax[0,0])        # set current Axes\n",
    "plt.plot(x, y, ls='-.') # acts on current Axes\n",
    "plt.tight_layout()      # prettify"
   ]
  },
  {
   "cell_type": "markdown",
   "metadata": {},
   "source": [
    "#### Activity #1 \n",
    "\n",
    "Let's practice working with `Figure` and `Axes` objects. Run the code snippet below to generate some orbits and plot them using `orbitize!`"
   ]
  },
  {
   "cell_type": "code",
   "execution_count": null,
   "metadata": {},
   "outputs": [],
   "source": [
    "import orbitize.driver\n",
    "\n",
    "# set up fit\n",
    "myDriver = orbitize.driver.Driver(\n",
    "    '{}/GJ504.csv'.format(orbitize.DATADIR),\n",
    "    'OFTI', 1, 1.22, 56.95, mass_err=0.08, plx_err=0.26\n",
    ")\n",
    "s = myDriver.sampler\n",
    "\n",
    "# run orbitize!\n",
    "orbits = s.run_sampler(100)\n",
    "myResults = s.results\n",
    "\n",
    "# make plot\n",
    "epochs = myDriver.system.data_table['epoch']\n",
    "orbit_figure = myResults.plot_orbits(\n",
    "    start_mjd=epochs[0]\n",
    ")"
   ]
  },
  {
   "cell_type": "markdown",
   "metadata": {},
   "source": [
    "Notice that the last line of this snippet returns the `Figure` object used to make the plot above. This is good practice-- it lets your users more easily customize figures, just as you're about to do!\n",
    "\n",
    "Tasks:\n",
    "- Change the x-axis limits of the top right panel to 2011-2015.\n",
    "- Add a black star at (0, 0) in the leftmost panel.\n",
    "- Change the dpi (dots per inch, a measure of resolution) of the Figure to 250.\n",
    "- Save the figure to your Desktop using [`plt.savefig()`](https://matplotlib.org/3.2.1/api/_as_gen/matplotlib.pyplot.savefig.html). "
   ]
  },
  {
   "cell_type": "markdown",
   "metadata": {},
   "source": [
    "### Activity #2\n",
    "\n",
    "Use gridspec (Google it!) to create a basic [corner plot](https://corner.readthedocs.io/en/latest/pages/quickstart.html). Plot the samples generated in the code snippet below. Your corner plot must:\n",
    "- display histograms along the diagonal\n",
    "- display a contour plot along the non-diagonal\n",
    "- handle 2-dimensional arrays\n",
    "\n",
    "Your corner plot may, if you have time/interest:\n",
    "- be super pretty\n",
    "- handle N-dimensional arrays"
   ]
  },
  {
   "cell_type": "code",
   "execution_count": null,
   "metadata": {},
   "outputs": [],
   "source": [
    "import numpy as np\n",
    "\n",
    "ndim, nsamples = 2, 10000\n",
    "samples = np.random.randn(ndim * nsamples)\n",
    "\n",
    "print(samples)"
   ]
  },
  {
   "cell_type": "markdown",
   "metadata": {},
   "source": [
    "## (Optional) Activity #3\n",
    "\n",
    "Read about [interactive plots](https://matplotlib.org/3.2.1/users/interactive.html) in matplotlib and/or [making animations](https://matplotlib.org/3.2.1/api/animation_api.html) in matplotlib. Make some cool figures. :)\n"
   ]
  },
  {
   "cell_type": "code",
   "execution_count": null,
   "metadata": {},
   "outputs": [],
   "source": []
  },
  {
   "cell_type": "markdown",
   "metadata": {},
   "source": [
    "# Astropy\n",
    "\n",
    "`astropy` is full of useful stuff for astronomers (perhaps unsurprisingly). The main point I want to drive home with this tutorial is **DON'T REINVENT THE WHEEL**. Before you write a new function, especially one that performs a common astronomical task, check whether an `astropy` developer wrote it for you.\n",
    "\n",
    "Again, this tutorial is far from exhaustive. Check out a more complete list of `astropy` tutorials [here](http://learn.astropy.org/tutorials.html).\n",
    "\n",
    "Below are some examples of a few particularly useful `astropy` features. "
   ]
  },
  {
   "cell_type": "markdown",
   "metadata": {},
   "source": [
    "One of my favorite things about `astropy` is its ability to handle units and fundamental constants. Let's calculate the Earth's orbital velocity:"
   ]
  },
  {
   "cell_type": "code",
   "execution_count": 7,
   "metadata": {},
   "outputs": [
    {
     "output_type": "stream",
     "name": "stdout",
     "text": "11520088541.326408 m(3/2) / (AU(1/2) s)\n"
    }
   ],
   "source": [
    "import numpy as np\n",
    "from astropy import constants as cst, units as u \n",
    "\n",
    "v_Earth = np.sqrt(\n",
    "    cst.G * \n",
    "    cst.M_sun / \n",
    "    (1 * u.au)\n",
    ")\n",
    "\n",
    "print(v_Earth)"
   ]
  },
  {
   "cell_type": "markdown",
   "metadata": {},
   "source": [
    "Well those units aren't very helpful. Let's convert them to more physical units:"
   ]
  },
  {
   "cell_type": "code",
   "execution_count": 12,
   "metadata": {},
   "outputs": [
    {
     "output_type": "stream",
     "name": "stdout",
     "text": "Earth's orbital velocity: 2978469.2 cm / s.\nAnother way to put it: 29.8 km / s.\n"
    }
   ],
   "source": [
    "v_Earth_cgs = v_Earth.cgs\n",
    "v_Earth_km_s = v_Earth.to(u.km/u.s)\n",
    "\n",
    "print(\"Earth's orbital velocity: {:.1f}.\".format(v_Earth_cgs))\n",
    "print(\"Another way to put it: {:.1f}.\".format(v_Earth_km_s))"
   ]
  },
  {
   "cell_type": "markdown",
   "metadata": {},
   "source": [
    "Next, let's do an example with the bane of every astronomer's existence: time."
   ]
  },
  {
   "cell_type": "code",
   "execution_count": 19,
   "metadata": {},
   "outputs": [
    {
     "output_type": "stream",
     "name": "stdout",
     "text": "As a fractional year: 1994.841095890411.\nIn JD: 2449660.5.\nIn MJD: 49660.0.\n"
    }
   ],
   "source": [
    "from astropy.time import Time \n",
    "\n",
    "my_birthday = Time('1994-11-04', format='iso')\n",
    "\n",
    "print('As a fractional year: {}.'.format(my_birthday.decimalyear))\n",
    "print('In JD: {}.'.format(my_birthday.jd))\n",
    "print('In MJD: {}.'.format(my_birthday.mjd))"
   ]
  },
  {
   "cell_type": "markdown",
   "metadata": {},
   "source": [
    "Next, a quick example with the second-worst bane of every astronomer's existence: coordinate systems. `astropy` has a great `coordinates` module that enables easy translation between coordinate systems:"
   ]
  },
  {
   "cell_type": "code",
   "execution_count": 22,
   "metadata": {},
   "outputs": [
    {
     "output_type": "stream",
     "name": "stdout",
     "text": "<SkyCoord (ICRS): (ra, dec) in deg\n    (10.625, 41.2)>\n<SkyCoord (Galactic): (l, b) in deg\n    (121.12334339, -21.6403587)>\n"
    }
   ],
   "source": [
    "from astropy.coordinates import SkyCoord\n",
    "from astropy import units as u\n",
    "\n",
    "# input coordinates as hour angle and degree\n",
    "my_coordinate = SkyCoord('00:42.5 +41:12', unit=(u.hourangle, u.deg))\n",
    "\n",
    "# access right ascension\n",
    "print(my_coordinate)\n",
    "\n",
    "# convert to galactocentric coordinates\n",
    "print(my_coordinate.galactic)"
   ]
  },
  {
   "cell_type": "markdown",
   "metadata": {},
   "source": [
    "As a final example, we will use astropy to read a .fits file and access its contents:"
   ]
  },
  {
   "cell_type": "code",
   "execution_count": 28,
   "metadata": {},
   "outputs": [
    {
     "output_type": "stream",
     "name": "stdout",
     "text": "Filename: /Users/bluez3303/miniconda3/envs/python3.7/lib/python3.7/site-packages/astropy/io/fits/tests/data/test0.fits\nNo.    Name      Ver    Type      Cards   Dimensions   Format\n  0  PRIMARY       1 PrimaryHDU     138   ()      \n  1  SCI           1 ImageHDU        61   (40, 40)   int16   \n  2  SCI           2 ImageHDU        61   (40, 40)   int16   \n  3  SCI           3 ImageHDU        61   (40, 40)   int16   \n  4  SCI           4 ImageHDU        61   (40, 40)   int16   \n"
    },
    {
     "output_type": "execute_result",
     "data": {
      "text/plain": "SIMPLE  =                    T / file does conform to FITS standard             \nBITPIX  =                   16 / number of bits per data pixel                  \nNAXIS   =                    0 / number of data axes                            \nEXTEND  =                    T / FITS dataset may contain extensions            \nGROUPS  =                    F / data has groups                                \nNEXTEND =                    4 / Number of standard extensions                  \nBSCALE  =           1.000000E0 / REAL = TAPE*BSCALE + BZERO                     \nBZERO   =           3.276800E4 /                                                \nORIGIN  = 'NOAO-IRAF FITS Image Kernel Aug 1 1997' / FITS file originator       \nDATE    = '01/04/99  '         / Date FITS file was generated                   \nIRAF-TLM= 'xxx     '              / Time of last modification                   \n                                                                                \n              / GROUP PARAMETERS: OSS                                           \n                                                                                \n              / GROUP PARAMETERS: PODPS                                         \n                                                                                \n              / GROUP PARAMETERS: DATA QUALITY FILE SUMMARY                     \n                                                                                \n              / GROUP PARAMETERS: PHOTOMETRY                                    \n                                                                                \n              / GROUP PARAMETERS: IMAGE STATISTICS                              \n                                                                                \n              / WFPC-II DATA DESCRIPTOR KEYWORDS                                \nINSTRUME= 'WFPC2             ' / identifier for instrument used to acquire data \nROOTNAME= 'U2EQ0201T         ' / rootname of the observation set                \nFILETYPE= 'SCI               ' / shp, ext, edq, sdq, sci                        \n                                                                                \n              / SCIENCE INSTRUMENT CONFIGURATION                                \nMODE    = 'AREA              ' / instr. mode: FULL (full res.), AREA (area int.)\nSERIALS = 'OFF               ' / serial clocks: ON, OFF                         \n                                                                                \n              / IMAGE TYPE CHARACTERISTICS                                      \nIMAGETYP= 'EXT               ' / type of exposure identifier                    \nCDBSFILE= 'NO                ' / GENERIC/BIAS/DARK/PREF/FLAT/MASK/ATOD/NO       \nPKTFMT  =                   96 / packet format code                             \n                                                                                \n              / FILTER CONFIGURATION                                            \nFILTNAM1= 'F673N             ' / first filter name                              \nFILTNAM2= '                  ' / 2nd    filter name                             \nFILTER1 =                   33 / first filter number (0-48)                     \nFILTER2 =                    0 / second filter number (0-48)                    \nFILTROT =             0.000000 / partial filter rotation angle (degrees)        \nLRFWAVE =                  0.0 / linear ramp filter wavelength                  \n                                                                                \n              / INSTRUMENT STATUS USED IN DATA PROCESSING                       \nUCH1CJTM=             -88.3486 / TEC cold junction #1 temperature (Celsius)     \nUCH2CJTM=             -88.8073 / TEC cold junction #2 temperature (Celsius)     \nUCH3CJTM=             -88.3945 / TEC cold junction #3 temperature (Celsius)     \nUCH4CJTM=             -88.9041 / TEC cold junction #4 temperature (Celsius)     \nUBAY3TMP=              14.5969 / bay 3 A1 temperature (deg C)                   \nKSPOTS  = 'OFF               ' / Status of Kelsall spot lamps: ON, OFF          \nSHUTTER = 'B                 ' / Shutter in place at beginning of the exposure  \nATODGAIN=                  7.0 / Analog to Digital Gain (Electrons/DN)          \n                                                                                \n              / RSDP CONTROL KEYWORDS                                           \nMASKCORR= 'PERFORM           ' / Do mask correction: PERFORM, OMIT, COMPLETE    \nATODCORR= 'PERFORM           ' / Do A-to-D correction: PERFORM, OMIT, COMPLETE  \nBLEVCORR= 'PERFORM           ' / Do bias level correction                       \nBIASCORR= 'PERFORM           ' / Do bias correction: PERFORM, OMIT, COMPLETE    \nDARKCORR= 'OMIT              ' / Do dark correction: PERFORM, OMIT, COMPLETE    \nFLATCORR= 'PERFORM           ' / Do flat field correction                       \nSHADCORR= 'PERFORM           ' / Do shaded shutter correction                   \nDOSATMAP= 'OMIT              ' / Output saturated pixel map                     \nDOPHOTOM= 'PERFORM           ' / Fill photometry keywords                       \nDOHISTOS= 'OMIT              ' / Make histograms: PERFORM, OMIT, COMPLETE       \nOUTDTYPE= 'REAL              ' / Output image datatype: REAL, LONG, SHORT       \n                                                                                \n              / CALIBRATION REFERENCE FILES                                     \nMASKFILE= 'uref$fan15478u.r0h' / name of the input DQF of known bad pixels      \nATODFILE= 'uref$e1b09594u.r1h' / name of the A-to-D conversion file             \nBLEVFILE= 'ucal$u2eq0201t.x0h' / Engineering file with extended register data   \nBLEVDFIL= 'ucal$u2eq0201t.q1h' / Engineering file DQF                           \nBIASFILE= 'uref$e6o0937du.r2h' / name of the bias frame reference file          \nBIASDFIL= 'uref$e6o0937du.b2h' / name of the bias frame reference DQF           \nDARKFILE= 'uref$e6o09384u.r3h' / name of the dark reference file                \nDARKDFIL= 'uref$e6o09384u.b3h' / name of the dark reference DQF                 \nFLATFILE= 'uref$e1c1404ju.r4h' / name of the flat field reference file          \nFLATDFIL= 'uref$e1c1404ju.b4h' / name of the flat field reference DQF           \nSHADFILE= 'uref$e6o09405u.r5h' / name of the reference file for shutter shading \nPHOTTAB = '                  ' / name of the photometry calibration table       \nGRAPHTAB= 'mtab$f7d1401pm.tmg' / the HST graph table                            \nCOMPTAB = 'mtab$f7j1535pm.tmc' / the HST components table                       \n                                                                                \n              / DEFAULT KEYWORDS SET BY STSCI                                   \nSATURATE=                 4095 / Data value at which saturation occurs          \nUSCALE  =                  1.0 / Scale factor for output image                  \nUZERO   =                  0.0 / Zero point for output image                    \n                                                                                \n              / READOUT DURATION INFORMATION                                    \nREADTIME=                  151 / Length of time for CCD readout in clock ticks  \n                                                                                \n              / PLANETARY SCIENCE KEYWORDS                                      \nPA_V3   =        292.387786865 / position angle of v3 of HST (deg)              \nRA_SUN  =        56.2731208362 / right ascension of the sun (deg)               \nDEC_SUN =        19.8289107164 / declination of the sun (deg)                   \nEQNX_SUN=               2000.0 / equinox of the sun                             \nMTFLAG  =                    T / moving target flag; T if it is a moving target \nEQRADTRG=                  0.0 / equatorial radius of target (km)               \nFLATNTRG=                  0.0 / flattening of target                           \nNPDECTRG=                  0.0 / north pole declination of target (deg)         \nNPRATRG =                  0.0 / north pole right ascension of target (deg)     \nROTRTTRG=                  0.0 / rotation rate of target                        \nLONGPMER=                  0.0 / longitude of prime meridian (deg)              \nEPLONGPM=                  0.0 / epoch of longitude of prime meridian (sec)     \nSURFLATD=                  0.0 / surface feature latitude (deg)                 \nSURFLONG=                  0.0 / surface feature longitude (deg)                \nSURFALTD=                  0.0 / surface feature altitude (km)                  \n                                                                                \n              / PODPS FILL VALUES                                               \nPODPSFF =                    F / podps fill present (T/F)                       \nSTDCFFF =                    F / ST DDF fill present (T/F)                      \nSTDCFFP = '0x5569            ' / ST DDF fill pattern (hex)                      \nRSDPFILL=                 -100 / bad data fill value for calibrated images      \n                                                                                \n              / EXPOSURE TIME AND RELATED INFORMATION                           \nUEXPODUR=                    0 / commanded duration of exposure (sec)           \nNSHUTA17=                    0 / Number of AP17 shutter B closes                \nDARKTIME=   2.300000000000E-01 / Dark time (seconds)                            \nUEXPOTIM=                20272 / Major frame pulse time preceding exposure start\nPSTRTIME= '1994.139:15:41:39 ' / predicted obs. start time (yyyy.ddd:hh:mm:ss)  \nPSTPTIME= '1994.139:16:14:39 ' / predicted obs. stop time (yyyy.ddd:hh:mm:ss)   \n                                                                                \n                                                                                \n              / EXPOSURE INFORMATION                                            \n                                                                                \nORIENTAT=              157.076 / position angle of image y axis (deg. e of n)   \nSUNANGLE=           158.939133 / angle between sun and V1 axis (deg)            \nMOONANGL=            54.995346 / angle between moon and V1 axis                 \nSUN_ALT =           -11.552458 / altitude of the sun above Earth's limb         \nFGSLOCK = 'FINE              ' / commanded FGS lock (FINE,COARSE,GYROS,UNKNOWN) \n                                                                                \nDATE-OBS= '19/05/94          ' / UT date of start of observation (dd/mm/yy)     \nTIME-OBS= '15:41:16          ' / UT time of start of observation (hh:mm:ss)     \nEXPSTART=   4.949165366175E+04 / exposure start time (Modified Julian Date)     \nEXPEND  =   4.949165366441E+04 / exposure end time (Modified Julian Date)       \nEXPTIME =   2.300000000000E-01 / exposure duration (seconds)--calculated        \nEXPFLAG = 'NORMAL            ' / Exposure interruption indicator                \nFILENAME= 'vtest3.fits'        / File name                                      "
     },
     "metadata": {},
     "execution_count": 28
    }
   ],
   "source": [
    "from astropy.io import fits\n",
    "\n",
    "fits_image_filename = fits.util.get_testdata_filepath('test0.fits')\n",
    "hdul = fits.open(fits_image_filename)\n",
    "\n",
    "hdul.info()\n",
    "hdul[0].header"
   ]
  },
  {
   "cell_type": "markdown",
   "metadata": {},
   "source": [
    "### Activity #1\n",
    "\n",
    "Google around and learn about how the `astropy.units` module handles parallax. Use `astropy` to convert from a proper motion of 30 arcseconds/yr to physical units (e.g. au/yr). Assume the distance to the object is 10 pc.\n"
   ]
  },
  {
   "cell_type": "markdown",
   "metadata": {},
   "source": [
    "### Activity #2\n",
    "\n",
    "The code below has an error. Good error messages will tell you exactly what went wrong and where it happened, but it's very difficult to write error messages that will be useful in every situation. When faced with an error message you don't understand, it's good practice to Google it (literally just copy the error message and paste it into Google) to see if anyone else has encountered that error. StackOverflow is especially helpful. Try it with the following error message, and fix the code so that it gives you the electrostatic force in Dynes.\n"
   ]
  },
  {
   "cell_type": "code",
   "execution_count": 41,
   "metadata": {},
   "outputs": [
    {
     "output_type": "error",
     "ename": "TypeError",
     "evalue": "Constant 'e' does not have physically compatible units across all systems of units and cannot be combined with other values without specifying a system (eg. e.emu)",
     "traceback": [
      "\u001b[0;31m---------------------------------------------------------------------------\u001b[0m",
      "\u001b[0;31mTypeError\u001b[0m                                 Traceback (most recent call last)",
      "\u001b[0;32m<ipython-input-41-f7c5f16893d4>\u001b[0m in \u001b[0;36m<module>\u001b[0;34m\u001b[0m\n\u001b[1;32m      2\u001b[0m \u001b[0;34m\u001b[0m\u001b[0m\n\u001b[1;32m      3\u001b[0m \u001b[0;31m# calculate electrostatic force between proton and electron\u001b[0m\u001b[0;34m\u001b[0m\u001b[0;34m\u001b[0m\u001b[0;34m\u001b[0m\u001b[0m\n\u001b[0;32m----> 4\u001b[0;31m \u001b[0mforce\u001b[0m \u001b[0;34m=\u001b[0m \u001b[0mcst\u001b[0m\u001b[0;34m.\u001b[0m\u001b[0me\u001b[0m\u001b[0;34m**\u001b[0m\u001b[0;36m2\u001b[0m \u001b[0;34m/\u001b[0m \u001b[0;34m(\u001b[0m\u001b[0;36m1\u001b[0m \u001b[0;34m*\u001b[0m \u001b[0mu\u001b[0m\u001b[0;34m.\u001b[0m\u001b[0mangstrom\u001b[0m\u001b[0;34m)\u001b[0m\u001b[0;34m**\u001b[0m\u001b[0;36m2\u001b[0m\u001b[0;34m\u001b[0m\u001b[0;34m\u001b[0m\u001b[0m\n\u001b[0m",
      "\u001b[0;32m~/miniconda3/envs/python3.7/lib/python3.7/site-packages/astropy/constants/constant.py\u001b[0m in \u001b[0;36mwrapper\u001b[0;34m(self, *args, **kwargs)\u001b[0m\n\u001b[1;32m     52\u001b[0m                         \u001b[0;34m'combined with other values without specifying a '\u001b[0m\u001b[0;34m\u001b[0m\u001b[0;34m\u001b[0m\u001b[0m\n\u001b[1;32m     53\u001b[0m                         'system (eg. {}.{})'.format(self.abbrev, self.abbrev,\n\u001b[0;32m---> 54\u001b[0;31m                                                       systems[0]))\n\u001b[0m\u001b[1;32m     55\u001b[0m \u001b[0;34m\u001b[0m\u001b[0m\n\u001b[1;32m     56\u001b[0m                 \u001b[0;32mreturn\u001b[0m \u001b[0mmeth\u001b[0m\u001b[0;34m(\u001b[0m\u001b[0mself\u001b[0m\u001b[0;34m,\u001b[0m \u001b[0;34m*\u001b[0m\u001b[0margs\u001b[0m\u001b[0;34m,\u001b[0m \u001b[0;34m**\u001b[0m\u001b[0mkwargs\u001b[0m\u001b[0;34m)\u001b[0m\u001b[0;34m\u001b[0m\u001b[0;34m\u001b[0m\u001b[0m\n",
      "\u001b[0;31mTypeError\u001b[0m: Constant 'e' does not have physically compatible units across all systems of units and cannot be combined with other values without specifying a system (eg. e.emu)"
     ]
    }
   ],
   "source": [
    "from astropy import units as u, constants as cst\n",
    "\n",
    "# calculate electrostatic force between proton and electron\n",
    "force = cst.e**2 / (1 * u.angstrom)**2"
   ]
  },
  {
   "cell_type": "markdown",
   "metadata": {},
   "source": [
    "### Activity #3\n",
    "\n",
    "Let's play with the .fits file we accessed above a little more. \n",
    "- Access the readout time from `my_file` below and store it in a variable `readtime`. \n",
    "- Figure out how to access the data. Make a plot of one of the science exposures (use `pyplot.imshow()`)."
   ]
  },
  {
   "cell_type": "code",
   "execution_count": 51,
   "metadata": {},
   "outputs": [
    {
     "output_type": "stream",
     "name": "stdout",
     "text": "Filename: /Users/bluez3303/miniconda3/envs/python3.7/lib/python3.7/site-packages/astropy/io/fits/tests/data/test0.fits\nNo.    Name      Ver    Type      Cards   Dimensions   Format\n  0  PRIMARY       1 PrimaryHDU     138   ()      \n  1  SCI           1 ImageHDU        61   (40, 40)   int16   \n  2  SCI           2 ImageHDU        61   (40, 40)   int16   \n  3  SCI           3 ImageHDU        61   (40, 40)   int16   \n  4  SCI           4 ImageHDU        61   (40, 40)   int16   \n"
    },
    {
     "output_type": "execute_result",
     "data": {
      "text/plain": "<matplotlib.image.AxesImage at 0x1272d77d0>"
     },
     "metadata": {},
     "execution_count": 51
    },
    {
     "output_type": "display_data",
     "data": {
      "text/plain": "<Figure size 432x288 with 1 Axes>",
      "image/svg+xml": "<?xml version=\"1.0\" encoding=\"utf-8\" standalone=\"no\"?>\n<!DOCTYPE svg PUBLIC \"-//W3C//DTD SVG 1.1//EN\"\n  \"http://www.w3.org/Graphics/SVG/1.1/DTD/svg11.dtd\">\n<!-- Created with matplotlib (https://matplotlib.org/) -->\n<svg height=\"249.599344pt\" version=\"1.1\" viewBox=\"0 0 251.565 249.599344\" width=\"251.565pt\" xmlns=\"http://www.w3.org/2000/svg\" xmlns:xlink=\"http://www.w3.org/1999/xlink\">\n <defs>\n  <style type=\"text/css\">\n*{stroke-linecap:butt;stroke-linejoin:round;}\n  </style>\n </defs>\n <g id=\"figure_1\">\n  <g id=\"patch_1\">\n   <path d=\"M 0 249.599344 \nL 251.565 249.599344 \nL 251.565 0 \nL 0 0 \nz\n\" style=\"fill:none;\"/>\n  </g>\n  <g id=\"axes_1\">\n   <g id=\"patch_2\">\n    <path d=\"M 26.925 225.721219 \nL 244.365 225.721219 \nL 244.365 8.281219 \nL 26.925 8.281219 \nz\n\" style=\"fill:#ffffff;\"/>\n   </g>\n   <g clip-path=\"url(#p7a9f82ec7b)\">\n    <image height=\"218\" id=\"image8caeb7a7c3\" transform=\"scale(1 -1)translate(0 -218)\" width=\"218\" x=\"26.925\" xlink:href=\"data:image/png;base64,\niVBORw0KGgoAAAANSUhEUgAAANoAAADaCAYAAADAHVzbAAAABHNCSVQICAgIfAhkiAAADRZJREFUeJzt3b9vFtkVxvH7Zt8CIcNmSYPsyLiIdiOFKOVqLeQyfUhLuVU6+AOIRMsK9g9ISR16SoSQ0qSJtoAKLMWhCckaK0phkhR0uc+R7pM784Ti+ylH43nv/DgezdG5524Ob97/dxt0evDJ6K7t8qv3w3+v9j052sh9d5/2w1XHVcd0qTGo36/GUJkd26WXf++2vfj6s+G/X+IcZs1egyWu91rPs/KD4T0B/M8INCCAQAMCCDQgYKs+6Pae/LXY/Yfdlippsfek/2A/PfiR3FeNYedYj+D0oBja4LiUnePq/82/ho+hrPUR/udfquuox3ph/53YujP8W0skSNTzpM7hbF+fQ5W8maV+r3oW1HWoxquOwRsNCCDQgAACDQgg0IAAAg0I2Pz097/tUjrbZ5/KnZ2yGacsyil1envrrNtWjXcNS2TGVAnVu8/7jG5r41m/2XvTWmvnN77vtv3z+JLc1znf5Dk45Xx1tnmMM17eaEAAgQYEEGhAAIEGBGyvPFLlOOOlQ3VyoD+GSgK01tquKO2qPnZ//Ovvum1vbh9225Yof1LqEp1+WzUGlfiYHVd1bdU8taq8TSU+6oTBeCJAPSOzyZSqTPD1vW23bcdI7jn3QSXmWmtNxRRvNCCAQAMCCDQggEADAgg0IGBz/c6D4fTPbPaookpknPKYqw+fd9tUJrI1L9PkTAycLf1xSrtmy9v0ZNDWrt0977Y53bWcezZ7bZ0SrGpflbmsSuGcicRf/O5v3TbeaEAAgQYEEGhAAIEGBMhkiFO+VJXC6NKf8bh2xjA7j8lJRDhlN45ke+q1zJa9VfdBUQmH1vRz5+y7Vrt03mhAAIEGBBBoQACBBgQQaEDAVmd6xkuSdB/41lQv+CpDWZW9KKMZRqdEpzrfkyNxbYquUKcH42VVs92XlOq3VMatvmfjx1XZubpMabzcSlH7Vs+MGld1vnoCrH6+ZkvseKMBAQQaEECgAQEEGhCwXast8uVX/bYl5voozjl4JVzj5VrOXD2ZZCmMnls1x8zpgrXWfMNZalxn++OJCGeunnpuW/MWy1R4owEBBBoQQKABAQQaEECgAQF9o/LmTcBbZpG32Y5I47802yXJKV+qsoujna1aGx+vs2Bgdb2ccSlVFk4tcNiO5xaPnM00fzhGv626Z2rfKpup1kHgjQYEEGhAAIEGBBBoQMDm/V9+0n0B/+L+b+TO6qO2+gifbQ9dly/NtQ8f/f0ljuv8nlPqNFuyVnWFcuYFqjE492zWWu3DqwUdZxeP5I0GBBBoQACBBgQQaEAAgQYEbA5v3h9OdzmZJoeTvZkti3I4i+Ups73oqzHMlkpVVFZ5dk2B1sbXbHDuY3JthuoYZB2BjwyBBgQQaEAAgQYEbGfnG83OBWvNSzqoD+YlPnYVNQanXMtrS66prkyziY+yK9R+X06nWp1Xx6jGNdpKfq3kkdPZyrk3Trt03mhAAIEGBBBoQACBBgTI5jxLfJQ6f++0Vh5tD10lU9TfV/Oz1Ad7VQnjJIWWqOJYg9NOW3Faq6t93946k3+9fdY38qmu4e7T8fGqSpjT5jQN0skQNTbeaEAAgQYEEGhAAIEGBBBoQMB2dp7NWmUzVdZwtjOVyho63Z8qs9fRKedxjutk1pzyJcUZl9PW3JkR54xBz7VbJ+POGw0IINCAAAINCCDQgICtbrgz/kFYtVBurU8wVCU2u8ZH6WyDoNk5SGsdd605U29vDO8qS9Gqhjm6lK1vuFMdQ5/DOqVp9Xp//e/V8w3VtvEyP95oQACBBgQQaEAAgQYEEGhAgJz4WS0cpzIvTlZqR0zg+6DPQDmL16nMp9Ne2imvca5NddyrD593297cPhweg1Jlf0+OP+u27RZZyxdfi32LDLTKkqq/b01fG30d11kQ8sL+O7n98lOV7Z7vXKYmIvNGAwIINCCAQAMCCDQgYLvWWlvOB6z6PaczlrJWWdUSnMTH6HnUyZ8+wVCWzR31yQzvGuhkxuh8w6r8afpevppf481Jzim80YAAAg0IINCAAAINCCDQgABrIULH7EJ11WROlf1xyq32nvSTE6u/V+egymuq477/7oXc95OffdFtqzpxjU78rBd5HL9eKtO7RJczndlWv6//76t9nQUhVSew1nQXLOe4Dt5oQACBBgQQaEAAgQYEyPlo6sO+Nf0RXe2r5iY5ZVVLLFqoqHE53ZuqMiOZzPj8y+FxVWVRFx/3CRVVwuW0FD850vs6XbCcpNKll/2+pwejnbH0s1AtHinvQ1GCpY5bd4CTm4fxRgMCCDQggEADAgg0IIBAAwI2B99+M9y4XpWhLFGi40zsW6N3frUmgFoYb7bPf2WthQgdVQZZccrelNl7VmVpdbZbv0+Si3DyRgMCCDQggEADAgg0IGBzePN+97VdfRDOzuVaYj6aouaoOYvEOXONqrlNW9HufIlOXKPqVuXjCSyHupdVMkWVRTkLSs4mf5w5ZkvMR1PXlzcaEECgAQEEGhBAoAEBm+t3HnRfoEtUe6iPymoOkV6Xa50KDKU6XyfJMltlMPvBvsS4ZpMkTkJGJZVUJU5r2eqYymwSjTcaEECgAQEEGhBAoAEBBBoQIEuwKmoOkMoYtjbfQtnJfM7OZ1tClTUctVbJ2WzWca15hcpa8/eqbKiTzZwtKeSNBgQQaEAAgQYEEGhAgFwfrfqorRIfo5xSp9bGP0qduU2zpWEV9XtOAxlvvTH1Ya731ddWJxIuvxoegsVJ3qyh/q3+Ojpz6qrnee9Jf995owEBBBoQQKABAQQaEECgAQFyIcIlSlYcKivkZH/U31eL7alzqNtbj3fnkpnPJhbFa61d2H/Xbbv8VC+Wp46rsoPOxFGnvM0pdaqyrOo6qPtTZX/V/XHuQ7V4pTpftUBia14JljoGbzQggEADAgg0IIBAAwLk+mhVyYpKUMyWKbU231569Jiu2RboVXJAncNsG/bqejn3JzmH8GPgtKKfPQfeaEAAgQYEEGhAAIEGBBBoQMB2dqE6pxTGydxU2cXRY1RZOJWxq8739b2+Qu3a3fHjVuU8uqxJlzqNTjissqFV+ZEy2wVrtqf/EmsCqExv9Syd7ffPaJUpvvj4Rbftze3D4XHxRgMCCDQggEADAgg0IMBqCT5riXbLsx/WzjHVh7FTglWZnffl/L3izPtaot36aKmTc8+ckrPqfFWSxCmbc/BGAwIINCCAQAMCCDQggEADAjbX7zwYzjqq7JEzSbTK2J3f+L7bdu3u+eiwrGyZk7FzJkLOli85nPswu4Cec9zK6HVYa3HBirNmg7NGhToubzQggEADAgg0IIBAAwK2zgewbgM93q2qLJvZV52axsuEFCcRUZ2vc22UtcqXVElRVSLktMjWiYDxD/7ZxImaH1ZxFhesyqra0fiCkDpRo/dV15c3GhBAoAEBBBoQQKABAQQaEGB1wZKZpqLTk1J1hTr66k/dtj8e/1zuu8bEz4rK7lW97NXigGuVYDm991VmzVGdg8qsOc+NynA65VOVMsMozK414OCNBgQQaEAAgQYEEGhAgDUfzSkpmvX21pncvn32abctORdsjXlYLjV/T12X1uY7jFXJhTU6Zq31fC0xd82hzo03GhBAoAEBBBoQQKABAZuDb7/pvgiXaPSyVtJgjbW2qo/lZOXAEg2CRo+7RAOa0b+vzCawnJbga803rKjj8kYDAgg0IIBAAwIINCCAQAMCrIUILz7+Q7ftH7/6cvjHZheqq8y2dq44GUpnYb01MnnWHMIFMmvJcitVBlZ1/VK/VWUonTKy2evIGw0IINCAAAINCCDQgICt2lh+gIvExzLzlfrfOz3Qe6oPW9UgqPp7h74OulRKXYeqGdHo33/Y3m/TDYL0Pdt9qq75fDJGjXe0XXulTDS1PvHhJNaqhkr6Xo5fx5Oj8bI53mhAAIEGBBBoQACBBgQQaECA7IK1RImQM7FvdgLe7OTGinMdnBKd0cUFWxtv//36nkwgl92xZjn3bLa7leqIdu3uudxXZRiXeBYUZ7IubzQggEADAgg0IIBAAwKsluCK80HodC5KfsA6v1WdrzN/bva4zvw7J0mzVvJHWSMBVh3D2Xf2GrSm7wVvNCCAQAMCCDQggEADAgg0IGA72wPdyRRVEwN3jtVWnf1RmUtnwuFoFq8elzY7EbK6jtXkwpnjVlm4s/3xbKbafunlXD/8j6GTl7cOg76OLEQI/J8QaEAAgQYEEGhAgJzEtNZH6RKL7al5V1ce9eOtukpVraSV2cTL7DysD8YSU1XXLz2G+TmEal8n2aWehb0n+p6pLlhVkkjN66vvWX8OzrNYl931x+WNBgQQaEAAgQYEEGhAAIEGBGxVVunqw+dy593W9953etw7XaGqzNiVRztDv+UsVFeV0ji8tQZ6TtnbbBctZ1zVvs7iglVZ03+re+T3qoyfLvcaPmxptqsbbzQggEADAgg0IIBAAwL+A9XlbY853w0iAAAAAElFTkSuQmCC\" y=\"-7.721219\"/>\n   </g>\n   <g id=\"matplotlib.axis_1\">\n    <g id=\"xtick_1\">\n     <g id=\"line2d_1\">\n      <defs>\n       <path d=\"M 0 0 \nL 0 3.5 \n\" id=\"m902fd3d7ee\" style=\"stroke:#000000;stroke-width:0.8;\"/>\n      </defs>\n      <g>\n       <use style=\"stroke:#000000;stroke-width:0.8;\" x=\"29.643\" xlink:href=\"#m902fd3d7ee\" y=\"225.721219\"/>\n      </g>\n     </g>\n     <g id=\"text_1\">\n      <!-- 0 -->\n      <defs>\n       <path d=\"M 31.78125 66.40625 \nQ 24.171875 66.40625 20.328125 58.90625 \nQ 16.5 51.421875 16.5 36.375 \nQ 16.5 21.390625 20.328125 13.890625 \nQ 24.171875 6.390625 31.78125 6.390625 \nQ 39.453125 6.390625 43.28125 13.890625 \nQ 47.125 21.390625 47.125 36.375 \nQ 47.125 51.421875 43.28125 58.90625 \nQ 39.453125 66.40625 31.78125 66.40625 \nz\nM 31.78125 74.21875 \nQ 44.046875 74.21875 50.515625 64.515625 \nQ 56.984375 54.828125 56.984375 36.375 \nQ 56.984375 17.96875 50.515625 8.265625 \nQ 44.046875 -1.421875 31.78125 -1.421875 \nQ 19.53125 -1.421875 13.0625 8.265625 \nQ 6.59375 17.96875 6.59375 36.375 \nQ 6.59375 54.828125 13.0625 64.515625 \nQ 19.53125 74.21875 31.78125 74.21875 \nz\n\" id=\"DejaVuSans-48\"/>\n      </defs>\n      <g transform=\"translate(26.46175 240.319656)scale(0.1 -0.1)\">\n       <use xlink:href=\"#DejaVuSans-48\"/>\n      </g>\n     </g>\n    </g>\n    <g id=\"xtick_2\">\n     <g id=\"line2d_2\">\n      <g>\n       <use style=\"stroke:#000000;stroke-width:0.8;\" x=\"84.003\" xlink:href=\"#m902fd3d7ee\" y=\"225.721219\"/>\n      </g>\n     </g>\n     <g id=\"text_2\">\n      <!-- 10 -->\n      <defs>\n       <path d=\"M 12.40625 8.296875 \nL 28.515625 8.296875 \nL 28.515625 63.921875 \nL 10.984375 60.40625 \nL 10.984375 69.390625 \nL 28.421875 72.90625 \nL 38.28125 72.90625 \nL 38.28125 8.296875 \nL 54.390625 8.296875 \nL 54.390625 0 \nL 12.40625 0 \nz\n\" id=\"DejaVuSans-49\"/>\n      </defs>\n      <g transform=\"translate(77.6405 240.319656)scale(0.1 -0.1)\">\n       <use xlink:href=\"#DejaVuSans-49\"/>\n       <use x=\"63.623047\" xlink:href=\"#DejaVuSans-48\"/>\n      </g>\n     </g>\n    </g>\n    <g id=\"xtick_3\">\n     <g id=\"line2d_3\">\n      <g>\n       <use style=\"stroke:#000000;stroke-width:0.8;\" x=\"138.363\" xlink:href=\"#m902fd3d7ee\" y=\"225.721219\"/>\n      </g>\n     </g>\n     <g id=\"text_3\">\n      <!-- 20 -->\n      <defs>\n       <path d=\"M 19.1875 8.296875 \nL 53.609375 8.296875 \nL 53.609375 0 \nL 7.328125 0 \nL 7.328125 8.296875 \nQ 12.9375 14.109375 22.625 23.890625 \nQ 32.328125 33.6875 34.8125 36.53125 \nQ 39.546875 41.84375 41.421875 45.53125 \nQ 43.3125 49.21875 43.3125 52.78125 \nQ 43.3125 58.59375 39.234375 62.25 \nQ 35.15625 65.921875 28.609375 65.921875 \nQ 23.96875 65.921875 18.8125 64.3125 \nQ 13.671875 62.703125 7.8125 59.421875 \nL 7.8125 69.390625 \nQ 13.765625 71.78125 18.9375 73 \nQ 24.125 74.21875 28.421875 74.21875 \nQ 39.75 74.21875 46.484375 68.546875 \nQ 53.21875 62.890625 53.21875 53.421875 \nQ 53.21875 48.921875 51.53125 44.890625 \nQ 49.859375 40.875 45.40625 35.40625 \nQ 44.1875 33.984375 37.640625 27.21875 \nQ 31.109375 20.453125 19.1875 8.296875 \nz\n\" id=\"DejaVuSans-50\"/>\n      </defs>\n      <g transform=\"translate(132.0005 240.319656)scale(0.1 -0.1)\">\n       <use xlink:href=\"#DejaVuSans-50\"/>\n       <use x=\"63.623047\" xlink:href=\"#DejaVuSans-48\"/>\n      </g>\n     </g>\n    </g>\n    <g id=\"xtick_4\">\n     <g id=\"line2d_4\">\n      <g>\n       <use style=\"stroke:#000000;stroke-width:0.8;\" x=\"192.723\" xlink:href=\"#m902fd3d7ee\" y=\"225.721219\"/>\n      </g>\n     </g>\n     <g id=\"text_4\">\n      <!-- 30 -->\n      <defs>\n       <path d=\"M 40.578125 39.3125 \nQ 47.65625 37.796875 51.625 33 \nQ 55.609375 28.21875 55.609375 21.1875 \nQ 55.609375 10.40625 48.1875 4.484375 \nQ 40.765625 -1.421875 27.09375 -1.421875 \nQ 22.515625 -1.421875 17.65625 -0.515625 \nQ 12.796875 0.390625 7.625 2.203125 \nL 7.625 11.71875 \nQ 11.71875 9.328125 16.59375 8.109375 \nQ 21.484375 6.890625 26.8125 6.890625 \nQ 36.078125 6.890625 40.9375 10.546875 \nQ 45.796875 14.203125 45.796875 21.1875 \nQ 45.796875 27.640625 41.28125 31.265625 \nQ 36.765625 34.90625 28.71875 34.90625 \nL 20.21875 34.90625 \nL 20.21875 43.015625 \nL 29.109375 43.015625 \nQ 36.375 43.015625 40.234375 45.921875 \nQ 44.09375 48.828125 44.09375 54.296875 \nQ 44.09375 59.90625 40.109375 62.90625 \nQ 36.140625 65.921875 28.71875 65.921875 \nQ 24.65625 65.921875 20.015625 65.03125 \nQ 15.375 64.15625 9.8125 62.3125 \nL 9.8125 71.09375 \nQ 15.4375 72.65625 20.34375 73.4375 \nQ 25.25 74.21875 29.59375 74.21875 \nQ 40.828125 74.21875 47.359375 69.109375 \nQ 53.90625 64.015625 53.90625 55.328125 \nQ 53.90625 49.265625 50.4375 45.09375 \nQ 46.96875 40.921875 40.578125 39.3125 \nz\n\" id=\"DejaVuSans-51\"/>\n      </defs>\n      <g transform=\"translate(186.3605 240.319656)scale(0.1 -0.1)\">\n       <use xlink:href=\"#DejaVuSans-51\"/>\n       <use x=\"63.623047\" xlink:href=\"#DejaVuSans-48\"/>\n      </g>\n     </g>\n    </g>\n   </g>\n   <g id=\"matplotlib.axis_2\">\n    <g id=\"ytick_1\">\n     <g id=\"line2d_5\">\n      <defs>\n       <path d=\"M 0 0 \nL -3.5 0 \n\" id=\"m5a578a59b8\" style=\"stroke:#000000;stroke-width:0.8;\"/>\n      </defs>\n      <g>\n       <use style=\"stroke:#000000;stroke-width:0.8;\" x=\"26.925\" xlink:href=\"#m5a578a59b8\" y=\"10.999219\"/>\n      </g>\n     </g>\n     <g id=\"text_5\">\n      <!-- 0 -->\n      <g transform=\"translate(13.5625 14.798437)scale(0.1 -0.1)\">\n       <use xlink:href=\"#DejaVuSans-48\"/>\n      </g>\n     </g>\n    </g>\n    <g id=\"ytick_2\">\n     <g id=\"line2d_6\">\n      <g>\n       <use style=\"stroke:#000000;stroke-width:0.8;\" x=\"26.925\" xlink:href=\"#m5a578a59b8\" y=\"38.179219\"/>\n      </g>\n     </g>\n     <g id=\"text_6\">\n      <!-- 5 -->\n      <defs>\n       <path d=\"M 10.796875 72.90625 \nL 49.515625 72.90625 \nL 49.515625 64.59375 \nL 19.828125 64.59375 \nL 19.828125 46.734375 \nQ 21.96875 47.46875 24.109375 47.828125 \nQ 26.265625 48.1875 28.421875 48.1875 \nQ 40.625 48.1875 47.75 41.5 \nQ 54.890625 34.8125 54.890625 23.390625 \nQ 54.890625 11.625 47.5625 5.09375 \nQ 40.234375 -1.421875 26.90625 -1.421875 \nQ 22.3125 -1.421875 17.546875 -0.640625 \nQ 12.796875 0.140625 7.71875 1.703125 \nL 7.71875 11.625 \nQ 12.109375 9.234375 16.796875 8.0625 \nQ 21.484375 6.890625 26.703125 6.890625 \nQ 35.15625 6.890625 40.078125 11.328125 \nQ 45.015625 15.765625 45.015625 23.390625 \nQ 45.015625 31 40.078125 35.4375 \nQ 35.15625 39.890625 26.703125 39.890625 \nQ 22.75 39.890625 18.8125 39.015625 \nQ 14.890625 38.140625 10.796875 36.28125 \nz\n\" id=\"DejaVuSans-53\"/>\n      </defs>\n      <g transform=\"translate(13.5625 41.978437)scale(0.1 -0.1)\">\n       <use xlink:href=\"#DejaVuSans-53\"/>\n      </g>\n     </g>\n    </g>\n    <g id=\"ytick_3\">\n     <g id=\"line2d_7\">\n      <g>\n       <use style=\"stroke:#000000;stroke-width:0.8;\" x=\"26.925\" xlink:href=\"#m5a578a59b8\" y=\"65.359219\"/>\n      </g>\n     </g>\n     <g id=\"text_7\">\n      <!-- 10 -->\n      <g transform=\"translate(7.2 69.158437)scale(0.1 -0.1)\">\n       <use xlink:href=\"#DejaVuSans-49\"/>\n       <use x=\"63.623047\" xlink:href=\"#DejaVuSans-48\"/>\n      </g>\n     </g>\n    </g>\n    <g id=\"ytick_4\">\n     <g id=\"line2d_8\">\n      <g>\n       <use style=\"stroke:#000000;stroke-width:0.8;\" x=\"26.925\" xlink:href=\"#m5a578a59b8\" y=\"92.539219\"/>\n      </g>\n     </g>\n     <g id=\"text_8\">\n      <!-- 15 -->\n      <g transform=\"translate(7.2 96.338437)scale(0.1 -0.1)\">\n       <use xlink:href=\"#DejaVuSans-49\"/>\n       <use x=\"63.623047\" xlink:href=\"#DejaVuSans-53\"/>\n      </g>\n     </g>\n    </g>\n    <g id=\"ytick_5\">\n     <g id=\"line2d_9\">\n      <g>\n       <use style=\"stroke:#000000;stroke-width:0.8;\" x=\"26.925\" xlink:href=\"#m5a578a59b8\" y=\"119.719219\"/>\n      </g>\n     </g>\n     <g id=\"text_9\">\n      <!-- 20 -->\n      <g transform=\"translate(7.2 123.518437)scale(0.1 -0.1)\">\n       <use xlink:href=\"#DejaVuSans-50\"/>\n       <use x=\"63.623047\" xlink:href=\"#DejaVuSans-48\"/>\n      </g>\n     </g>\n    </g>\n    <g id=\"ytick_6\">\n     <g id=\"line2d_10\">\n      <g>\n       <use style=\"stroke:#000000;stroke-width:0.8;\" x=\"26.925\" xlink:href=\"#m5a578a59b8\" y=\"146.899219\"/>\n      </g>\n     </g>\n     <g id=\"text_10\">\n      <!-- 25 -->\n      <g transform=\"translate(7.2 150.698437)scale(0.1 -0.1)\">\n       <use xlink:href=\"#DejaVuSans-50\"/>\n       <use x=\"63.623047\" xlink:href=\"#DejaVuSans-53\"/>\n      </g>\n     </g>\n    </g>\n    <g id=\"ytick_7\">\n     <g id=\"line2d_11\">\n      <g>\n       <use style=\"stroke:#000000;stroke-width:0.8;\" x=\"26.925\" xlink:href=\"#m5a578a59b8\" y=\"174.079219\"/>\n      </g>\n     </g>\n     <g id=\"text_11\">\n      <!-- 30 -->\n      <g transform=\"translate(7.2 177.878437)scale(0.1 -0.1)\">\n       <use xlink:href=\"#DejaVuSans-51\"/>\n       <use x=\"63.623047\" xlink:href=\"#DejaVuSans-48\"/>\n      </g>\n     </g>\n    </g>\n    <g id=\"ytick_8\">\n     <g id=\"line2d_12\">\n      <g>\n       <use style=\"stroke:#000000;stroke-width:0.8;\" x=\"26.925\" xlink:href=\"#m5a578a59b8\" y=\"201.259219\"/>\n      </g>\n     </g>\n     <g id=\"text_12\">\n      <!-- 35 -->\n      <g transform=\"translate(7.2 205.058437)scale(0.1 -0.1)\">\n       <use xlink:href=\"#DejaVuSans-51\"/>\n       <use x=\"63.623047\" xlink:href=\"#DejaVuSans-53\"/>\n      </g>\n     </g>\n    </g>\n   </g>\n   <g id=\"patch_3\">\n    <path d=\"M 26.925 225.721219 \nL 26.925 8.281219 \n\" style=\"fill:none;stroke:#000000;stroke-linecap:square;stroke-linejoin:miter;stroke-width:0.8;\"/>\n   </g>\n   <g id=\"patch_4\">\n    <path d=\"M 244.365 225.721219 \nL 244.365 8.281219 \n\" style=\"fill:none;stroke:#000000;stroke-linecap:square;stroke-linejoin:miter;stroke-width:0.8;\"/>\n   </g>\n   <g id=\"patch_5\">\n    <path d=\"M 26.925 225.721219 \nL 244.365 225.721219 \n\" style=\"fill:none;stroke:#000000;stroke-linecap:square;stroke-linejoin:miter;stroke-width:0.8;\"/>\n   </g>\n   <g id=\"patch_6\">\n    <path d=\"M 26.925 8.281219 \nL 244.365 8.281219 \n\" style=\"fill:none;stroke:#000000;stroke-linecap:square;stroke-linejoin:miter;stroke-width:0.8;\"/>\n   </g>\n  </g>\n </g>\n <defs>\n  <clipPath id=\"p7a9f82ec7b\">\n   <rect height=\"217.44\" width=\"217.44\" x=\"26.925\" y=\"8.281219\"/>\n  </clipPath>\n </defs>\n</svg>\n",
      "image/png": "[encoded data removed]"
     },
     "metadata": {
      "needs_background": "light"
     }
    }
   ],
   "source": [
    "from astropy.io import fits\n",
    "import matplotlib.pyplot as plt\n",
    "\n",
    "fits_image_filename = fits.util.get_testdata_filepath('test0.fits')\n",
    "hdul = fits.open(fits_image_filename)\n",
    "\n",
    "hdul.info()\n",
    "my_file = hdul[0].header\n",
    "\n",
    "### Your code here ###\n",
    "\n",
    "\n"
   ]
  }
 ],
 "metadata": {
  "language_info": {
   "name": "python",
   "codemirror_mode": {
    "name": "ipython",
    "version": 3
   },
   "version": "3.7.6-final"
  },
  "orig_nbformat": 2,
  "file_extension": ".py",
  "mimetype": "text/x-python",
  "name": "python",
  "npconvert_exporter": "python",
  "pygments_lexer": "ipython3",
  "version": 3,
  "kernelspec": {
   "name": "python37664bitpython37conda5785220be34f4f6fa52b2ff37321b463",
   "display_name": "Python 3.7.6 64-bit ('python3.7': conda)"
  }
 },
 "nbformat": 4,
 "nbformat_minor": 2
}