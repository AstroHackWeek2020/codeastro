{
 "nbformat": 4,
 "nbformat_minor": 2,
 "metadata": {
  "language_info": {
   "name": "python",
   "codemirror_mode": {
    "name": "ipython",
    "version": 3
   },
   "version": "2.7.14-final"
  },
  "orig_nbformat": 2,
  "file_extension": ".py",
  "mimetype": "text/x-python",
  "name": "python",
  "npconvert_exporter": "python",
  "pygments_lexer": "ipython3",
  "version": 3,
  "kernelspec": {
   "name": "python37664bitpython37conda5785220be34f4f6fa52b2ff37321b463",
   "display_name": "Python 3.7.6 64-bit ('python3.7': conda)"
  }
 },
 "cells": [
  {
   "cell_type": "markdown",
   "metadata": {},
   "source": [
    "# Harnessing Matplotlib & Astropy"
   ],
   "execution_count": null,
   "outputs": []
  },
  {
   "cell_type": "markdown",
   "metadata": {},
   "source": [
    "## Matplotlib.pyplot\n",
    "\n",
    "`matplotlib.pyplot` is a powerful graphics module often used by Python developers. This is by no means a comprehensive tutorial, but it will point out a few important things about `matplotlib.pyplot` objects and give advice about incorporating plotting functionality in your open-source astronomy software.\n",
    "\n",
    "There are other (excellent) plotting tools in common practice in astronomy, especially plotly and bokeh. We encourage you to look into these tools as well, but we'll only discuss `matplotlib.pyplot` here.\n",
    "\n",
    "The basic \"unit\" of `matplotlib.pyplot` is [the `Figure` object](https://matplotlib.org/3.2.1/api/_as_gen/matplotlib.figure.Figure.html#matplotlib.figure.Figure), which acts as container for all the other plot elements. Let's look at a few different ways to create a `Figure` object:\n",
    "\n",
    "\n"
   ],
   "execution_count": null,
   "outputs": []
  },
  {
   "cell_type": "code",
   "execution_count": null,
   "metadata": {},
   "outputs": [],
   "source": [
    "import numpy as np\n",
    "import matplotlib.pyplot as plt\n",
    "\n",
    "# create some sample data\n",
    "x = np.array([1, 2, 3, 4])\n",
    "y = np.array([1, 4, 9, 16])\n",
    "y_error = np.array([5, 1.2, 2, 5])\n",
    "\n",
    "fig = plt.figure() # initializes a `Figure` object\n",
    "plt.errorbar(      # plots onto the current `Figure`\n",
    "    x, y, y_error, ls='', fmt=\"*\"  \n",
    ")  \n",
    "\n",
    "print(type(fig))"
   ]
  },
  {
   "cell_type": "markdown",
   "metadata": {},
   "source": [
    "The current figure changes when you initialize a new `Figure` object. Unless you specify a particular `Figure` object, `plt.___()` functions will always add to the current `Figure` object. That is a nice feature-- it makes it easy to add multiple types of plots onto the same figure.\n",
    "\n",
    "Let's look at another way to initialize a new `Figure` object:"
   ],
   "execution_count": null,
   "outputs": []
  },
  {
   "cell_type": "code",
   "execution_count": null,
   "metadata": {},
   "outputs": [],
   "source": [
    "fig, ax = plt.subplots(nrows=1, ncols=2, figsize=(10, 5))\n",
    "\n",
    "ax[0].plot(x, y)\n",
    "ax[1].plot(x, y)\n",
    "ax[1].set_yscale('log')\n",
    "\n",
    "print(type(fig))\n",
    "print(type(ax))\n",
    "print(type(ax[0]))"
   ]
  },
  {
   "cell_type": "markdown",
   "metadata": {},
   "source": [
    "Here we've encounter another kind of object: [the `Axes` object](https://matplotlib.org/api/axes_api.html#matplotlib.axes.Axes). These objects are containers for all the plot elements *in a particular figure panel*. `Axes` are attributes of `Figure` objects:"
   ],
   "execution_count": null,
   "outputs": []
  },
  {
   "cell_type": "code",
   "execution_count": null,
   "metadata": {},
   "outputs": [],
   "source": [
    "fig.axes[0].set_xlim(1, 3)\n",
    "fig"
   ]
  },
  {
   "cell_type": "markdown",
   "metadata": {},
   "source": [
    "Two useful methods to keep in mind are `plt.gca()` and `plt.sca()` (get/set current `Axes`). Let's see how they work:"
   ],
   "execution_count": null,
   "outputs": []
  },
  {
   "cell_type": "code",
   "execution_count": null,
   "metadata": {},
   "outputs": [],
   "source": [
    "fig, ax = plt.subplots(nrows=2, ncols=2)\n",
    "\n",
    "mystery_axes = plt.gca()              # get current Axes\n",
    "mystery_axes.scatter(x, y, color='k') # acts on `mystery_axes`\n",
    "\n",
    "plt.sca(ax[0,0])        # set current Axes\n",
    "plt.plot(x, y, ls='-.') # acts on current Axes\n",
    "plt.tight_layout()      # prettify"
   ]
  },
  {
   "cell_type": "markdown",
   "metadata": {},
   "source": [
    "#### Activity #1 \n",
    "\n",
    "Let's practice working with `Figure` and `Axes` objects. Run the code snippet below to generate some orbits and plot them using `orbitize!`"
   ],
   "execution_count": null,
   "outputs": []
  },
  {
   "cell_type": "code",
   "execution_count": null,
   "metadata": {},
   "outputs": [],
   "source": [
    "import orbitize.driver\n",
    "\n",
    "# set up fit\n",
    "myDriver = orbitize.driver.Driver(\n",
    "    '{}/GJ504.csv'.format(orbitize.DATADIR),\n",
    "    'OFTI', 1, 1.22, 56.95, mass_err=0.08, plx_err=0.26\n",
    ")\n",
    "s = myDriver.sampler\n",
    "\n",
    "# run orbitize!\n",
    "orbits = s.run_sampler(100)\n",
    "myResults = s.results\n",
    "\n",
    "# make plot\n",
    "epochs = myDriver.system.data_table['epoch']\n",
    "orbit_figure = myResults.plot_orbits(\n",
    "    start_mjd=epochs[0]\n",
    ")"
   ]
  },
  {
   "cell_type": "markdown",
   "metadata": {},
   "source": [
    "Notice that the last line of this snippet returns the `Figure` object used to make the plot above. This is good practice-- it lets your users more easily customize figures, just as you're about to do!\n",
    "\n",
    "Tasks:\n",
    "- Change the x-axis limits of the top right panel to 2011-2015.\n",
    "- Add a black star at (0, 0) in the leftmost panel.\n",
    "- Change the dpi (dots per inch, a measure of resolution) of the Figure to 250.\n",
    "- Save the figure to your Desktop using [`plt.savefig()`](https://matplotlib.org/3.2.1/api/_as_gen/matplotlib.pyplot.savefig.html). "
   ],
   "execution_count": null,
   "outputs": []
  },
  {
   "cell_type": "markdown",
   "metadata": {},
   "source": [
    "### Activity #2\n",
    "\n",
    "Use gridspec (Google it!) to create a basic [corner plot](https://corner.readthedocs.io/en/latest/pages/quickstart.html). Plot the samples generated in the code snippet below. Your corner plot must:\n",
    "- display histograms along the diagonal\n",
    "- display a contour plot along the non-diagonal\n",
    "- handle 2-dimensional arrays\n",
    "\n",
    "Your corner plot may, if you have time/interest:\n",
    "- be super pretty\n",
    "- handle N-dimensional arrays"
   ],
   "execution_count": null,
   "outputs": []
  },
  {
   "cell_type": "code",
   "execution_count": null,
   "metadata": {},
   "outputs": [],
   "source": [
    "import numpy as np\n",
    "\n",
    "ndim, nsamples = 2, 10000\n",
    "samples = np.random.randn(ndim * nsamples)\n",
    "\n",
    "print(samples)"
   ]
  },
  {
   "cell_type": "markdown",
   "metadata": {},
   "source": [
    "# Astropy\n",
    "\n",
    "astropy is full of good stuff. Let's do some examples with units, constants, io, tables, time, coordinates, fits files\n",
    "\n",
    "googling a mysterious error\n",
    "\n",
    "don't reinvent the wheel!\n",
    "check out more tutorials: http://learn.astropy.org/tutorials.html"
   ],
   "execution_count": null,
   "outputs": []
  }
 ]
}