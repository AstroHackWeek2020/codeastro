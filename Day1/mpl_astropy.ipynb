{
 "cells": [
  {
   "cell_type": "markdown",
   "metadata": {},
   "source": [
    "# Harnessing Matplotlib & Astropy"
   ]
  },
  {
   "cell_type": "markdown",
   "metadata": {},
   "source": [
    "## Matplotlib.pyplot\n",
    "\n",
    "### General tips:\n",
    "- **Don't overengineer your plotting code.** This means you don't need to add a million keywords anticipating every possible tweak your users might wish to make. Focus on making it easy for your users to modify the code themselves. Make sure you return `Figure` and `Axes` objects (more on this below) to your user so they can easily modify plots.\n",
    "- **Apply principles of good design.** This means using color palettes with lots of contrast, making your fonts large and easy-to-read, and making sure your plots are colorblind friendly. (There are several great colorblindness simulators out there, for example [this one](https://www.color-blindness.com/coblis-color-blindness-simulator/).) It's also good to differentiate plot elements in more than one way (ex: one line is black and dashed, another is red and solid). \n",
    "\n",
    "### This Tutorial:\n",
    "\n",
    "`matplotlib.pyplot` is a powerful graphics module often used by Python developers. (Check out [this gallery](https://matplotlib.org/gallery.html) to get a sense of what you can do with pyplot.) This is by no means a comprehensive tutorial, but it will point out a few important things about `matplotlib.pyplot` objects and give advice about incorporating plotting functionality in your open-source astronomy software.\n",
    "\n",
    "There are other (excellent) plotting tools in common practice in astronomy, especially plotly and bokeh. We encourage you to look into these tools as well, but we'll only discuss `matplotlib.pyplot` here."
   ]
  },
  {
   "cell_type": "markdown",
   "metadata": {},
   "source": [
    "### Tutorial Starts Here.\n",
    "\n",
    "`matplotlib.pyplot` relies on the concept of *changing state*. An excellent example of this concept is the `matplotlib.Rcparams` object, which is like a dictionary of attributes that control the \"default\" behaviors of matplotlib plots. Let's use the `update()` method of this object to change the default font size:\n"
   ]
  },
  {
   "cell_type": "code",
   "execution_count": null,
   "metadata": {},
   "outputs": [],
   "source": [
    "from matplotlib import rcParams\n",
    "import matplotlib.pyplot as plt\n",
    "\n",
    "# make a plot\n",
    "plt.figure()\n",
    "plt.xlabel('foo'); plt.ylabel('bar')\n",
    "\n",
    "# update the current state\n",
    "rcParams.update({'font.size': 22})\n",
    "print('The current font size is {}.'.format(rcParams['font.size']))\n",
    "\n",
    "# make another plot\n",
    "plt.figure()\n",
    "plt.xlabel('foo'); plt.ylabel('bar', fontsize=10)\n",
    "\n",
    "# update the current state again\n",
    "rcParams.update({'font.size': 12})\n",
    "print('Now, the current font size is {}.'.format(rcParams['font.size']))"
   ]
  },
  {
   "cell_type": "markdown",
   "metadata": {},
   "source": [
    "As you can see, `matplotlib` decides on a default font size by checking the *current* value of the state parameter `rcParams['font.size']`, but this is always overwritten if you pass in a keyword (in this case, the font size of the y axis label).\n",
    "\n",
    "The basic \"unit\" of `matplotlib.pyplot` is [the `Figure` object](https://matplotlib.org/3.2.1/api/_as_genmatplotlib.figure.Figure.html#matplotlib.figure.Figure), which acts as container for all the other plot elements. Let's look at a few different ways to create a `Figure` object:"
   ]
  },
  {
   "cell_type": "code",
   "execution_count": null,
   "metadata": {},
   "outputs": [],
   "source": [
    "import numpy as np\n",
    "\n",
    "# create some sample data\n",
    "x = np.array([1, 2, 3, 4])\n",
    "y = np.array([1, 4, 9, 16])\n",
    "y_error = np.array([5, 1.2, 2, 5])\n",
    "\n",
    "fig = plt.figure() # initializes a `Figure` object\n",
    "plt.errorbar(      # plots onto the current `Figure`\n",
    "    x, y, y_error, ls='', fmt=\"*\"  \n",
    ")  \n",
    "\n",
    "print(type(fig))"
   ]
  },
  {
   "cell_type": "markdown",
   "metadata": {},
   "source": [
    "The current figure changes (i.e. the *state* is updated) when you initialize a new `Figure` object. Unless you specify a particular `Figure` object, `plt.___()` functions will always add to the current `Figure` object. That is a nice feature-- it makes it easy to add multiple types of plots onto the same figure.\n",
    "\n",
    "Let's look at another way to initialize a new `Figure` object:"
   ]
  },
  {
   "cell_type": "code",
   "execution_count": null,
   "metadata": {},
   "outputs": [],
   "source": [
    "fig, ax = plt.subplots(nrows=1, ncols=2, figsize=(10, 5))\n",
    "\n",
    "ax[0].plot(x, y)\n",
    "ax[1].plot(x, y)\n",
    "ax[1].set_yscale('log')\n",
    "\n",
    "print(type(fig))\n",
    "print(type(ax))\n",
    "print(type(ax[0]))"
   ]
  },
  {
   "cell_type": "markdown",
   "metadata": {},
   "source": [
    "Here we've encounter another kind of object: [the `Axes` object](https://matplotlib.org/api/axes_api.html#matplotlib.axes.Axes). These objects are containers for all the plot elements *in a particular figure panel*. `Axes` are attributes of `Figure` objects:"
   ]
  },
  {
   "cell_type": "code",
   "execution_count": null,
   "metadata": {},
   "outputs": [],
   "source": [
    "fig.axes[0].set_xlim(1, 3)\n",
    "fig"
   ]
  },
  {
   "cell_type": "markdown",
   "metadata": {},
   "source": [
    "Two useful methods to keep in mind are `plt.gca()` and `plt.sca()` (get/set current `Axes`). Let's see how they work:"
   ]
  },
  {
   "cell_type": "code",
   "execution_count": null,
   "metadata": {},
   "outputs": [],
   "source": [
    "fig, ax = plt.subplots(nrows=2, ncols=2)\n",
    "\n",
    "mystery_axes = plt.gca()              # get current Axes\n",
    "mystery_axes.scatter(x, y, color='k') # acts on `mystery_axes`\n",
    "\n",
    "plt.sca(ax[0,0])        # set current Axes\n",
    "plt.plot(x, y, ls='-.') # acts on current Axes\n",
    "plt.tight_layout()      # prettify"
   ]
  },
  {
   "cell_type": "markdown",
   "metadata": {},
   "source": [
    "#### Activity #1 \n",
    "\n",
    "Let's practice working with `Figure` and `Axes` objects. Run the code snippet below to generate some orbits and plot them using `orbitize!`"
   ]
  },
  {
   "cell_type": "code",
   "execution_count": null,
   "metadata": {},
   "outputs": [],
   "source": [
    "import orbitize.driver\n",
    "\n",
    "# set up fit\n",
    "myDriver = orbitize.driver.Driver(\n",
    "    '{}/GJ504.csv'.format(orbitize.DATADIR),\n",
    "    'OFTI', 1, 1.22, 56.95, mass_err=0.08, plx_err=0.26\n",
    ")\n",
    "s = myDriver.sampler\n",
    "\n",
    "# run orbitize!\n",
    "orbits = s.run_sampler(100)\n",
    "myResults = s.results\n",
    "\n",
    "# make plot\n",
    "epochs = myDriver.system.data_table['epoch']\n",
    "orbit_figure = myResults.plot_orbits(\n",
    "    start_mjd=epochs[0]\n",
    ")"
   ]
  },
  {
   "cell_type": "markdown",
   "metadata": {},
   "source": [
    "Notice that the last line of this snippet returns the `Figure` object used to make the plot above. This is good practice-- it lets your users more easily customize figures, just as you're about to do!\n",
    "\n",
    "Tasks:\n",
    "- Change the x-axis limits of the top right panel to 2011-2015.\n",
    "- Add a black star at (0, 0) in the leftmost panel.\n",
    "- Change the dpi (dots per inch, a measure of resolution) of the Figure to 250.\n",
    "- Save the figure to your Desktop using [`plt.savefig()`](https://matplotlib.org/3.2.1/api/_as_gen/matplotlib.pyplot.savefig.html). "
   ]
  },
  {
   "cell_type": "markdown",
   "metadata": {},
   "source": [
    "### Activity #2\n",
    "\n",
    "Use gridspec (Google it!) to create a basic [corner plot](https://corner.readthedocs.io/en/latest/pages/quickstart.html). Plot the samples generated in the code snippet below. Your corner plot must:\n",
    "- display histograms along the diagonal\n",
    "- display a contour plot along the non-diagonal\n",
    "- handle 2-dimensional arrays\n",
    "\n",
    "Your corner plot may, if you have time/interest:\n",
    "- be super pretty\n",
    "- handle N-dimensional arrays"
   ]
  },
  {
   "cell_type": "code",
   "execution_count": null,
   "metadata": {},
   "outputs": [],
   "source": [
    "import numpy as np\n",
    "\n",
    "ndim, nsamples = 2, 10000\n",
    "samples = np.random.randn(ndim * nsamples)\n",
    "\n",
    "print(samples)"
   ]
  },
  {
   "cell_type": "markdown",
   "metadata": {},
   "source": [
    "## (Optional) Activity #3\n",
    "\n",
    "Read about [interactive plots](https://matplotlib.org/3.2.1/users/interactive.html) in matplotlib and/or [making animations](https://matplotlib.org/3.2.1/api/animation_api.html) in matplotlib. Make some cool figures. :)\n"
   ]
  },
  {
   "cell_type": "code",
   "execution_count": null,
   "metadata": {},
   "outputs": [],
   "source": []
  },
  {
   "cell_type": "markdown",
   "metadata": {},
   "source": [
    "# Astropy\n",
    "\n",
    "`astropy` is full of useful stuff for astronomers (perhaps unsurprisingly). The main point I want to drive home with this tutorial is **DON'T REINVENT THE WHEEL**. Before you write a new function, especially one that performs a common astronomical task, check whether an `astropy` developer wrote it for you.\n",
    "\n",
    "Again, this tutorial is far from exhaustive. Check out a more complete list of `astropy` tutorials [here](http://learn.astropy.org/tutorials.html).\n",
    "\n",
    "Below are some examples of a few particularly useful `astropy` features. "
   ]
  },
  {
   "cell_type": "markdown",
   "metadata": {},
   "source": [
    "One of my favorite things about `astropy` is its ability to handle units and fundamental constants. Let's calculate the Earth's orbital velocity:"
   ]
  },
  {
   "cell_type": "code",
   "execution_count": null,
   "metadata": {},
   "outputs": [],
   "source": [
    "import numpy as np\n",
    "from astropy import constants as cst, units as u \n",
    "\n",
    "v_Earth = np.sqrt(\n",
    "    cst.G * \n",
    "    cst.M_sun / \n",
    "    (1 * u.au)\n",
    ")\n",
    "\n",
    "print(v_Earth)"
   ]
  },
  {
   "cell_type": "markdown",
   "metadata": {},
   "source": [
    "Well those units aren't very helpful. Let's convert them to more physical units:"
   ]
  },
  {
   "cell_type": "code",
   "execution_count": null,
   "metadata": {},
   "outputs": [],
   "source": [
    "v_Earth_cgs = v_Earth.cgs\n",
    "v_Earth_km_s = v_Earth.to(u.km/u.s)\n",
    "\n",
    "print(\"Earth's orbital velocity: {:.1f}.\".format(v_Earth_cgs))\n",
    "print(\"Another way to put it: {:.1f}.\".format(v_Earth_km_s))"
   ]
  },
  {
   "cell_type": "markdown",
   "metadata": {},
   "source": [
    "Next, let's do an example with the bane of every astronomer's existence: time."
   ]
  },
  {
   "cell_type": "code",
   "execution_count": null,
   "metadata": {},
   "outputs": [],
   "source": [
    "from astropy.time import Time \n",
    "\n",
    "my_birthday = Time('1994-11-04', format='iso')\n",
    "\n",
    "print('As a fractional year: {}.'.format(my_birthday.decimalyear))\n",
    "print('In JD: {}.'.format(my_birthday.jd))\n",
    "print('In MJD: {}.'.format(my_birthday.mjd))"
   ]
  },
  {
   "cell_type": "markdown",
   "metadata": {},
   "source": [
    "Next, a quick example with the second-worst bane of every astronomer's existence: coordinate systems. `astropy` has a great `coordinates` module that enables easy translation between coordinate systems:"
   ]
  },
  {
   "cell_type": "code",
   "execution_count": null,
   "metadata": {},
   "outputs": [],
   "source": [
    "from astropy.coordinates import SkyCoord\n",
    "from astropy import units as u\n",
    "\n",
    "# input coordinates as hour angle and degree\n",
    "my_coordinate = SkyCoord('00:42.5 +41:12', unit=(u.hourangle, u.deg))\n",
    "\n",
    "# access right ascension\n",
    "print(my_coordinate)\n",
    "\n",
    "# convert to galactocentric coordinates\n",
    "print(my_coordinate.galactic)"
   ]
  },
  {
   "cell_type": "markdown",
   "metadata": {},
   "source": [
    "As a final example, we will use astropy to read a .fits file and access its contents. When using `fits.open()`, it's important to close the file after you're finished with it to avoid taking up memory."
   ]
  },
  {
   "cell_type": "code",
   "execution_count": null,
   "metadata": {},
   "outputs": [],
   "source": [
    "from astropy.io import fits\n",
    "\n",
    "fits_image_filename = fits.util.get_testdata_filepath('test0.fits')\n",
    "hdul = fits.open(fits_image_filename)\n",
    "\n",
    "# print a summary of the file contents\n",
    "hdul.info()\n",
    "\n",
    "# print the contents of the .fits header\n",
    "hdul[0].header\n",
    "\n",
    "# close the file\n",
    "hdul.close()"
   ]
  },
  {
   "cell_type": "markdown",
   "metadata": {},
   "source": [
    "You can avoid having to close the file yourself by using the `with` command:"
   ]
  },
  {
   "cell_type": "code",
   "execution_count": null,
   "metadata": {},
   "outputs": [],
   "source": [
    "with fits.open(fits_image_filename) as hdul:\n",
    "    hdul.info()     # file is automatically closed when loop exits"
   ]
  },
  {
   "cell_type": "markdown",
   "metadata": {},
   "source": [
    "### Activity #1\n",
    "\n",
    "Google around and learn about how the `astropy.units` module handles parallax. Use `astropy` to convert from a proper motion of 30 arcseconds/yr to physical units (e.g. au/yr). Assume the distance to the object is 10 pc.\n"
   ]
  },
  {
   "cell_type": "markdown",
   "metadata": {},
   "source": [
    "### Activity #2\n",
    "\n",
    "The code below has an error. Good error messages will tell you exactly what went wrong and where it happened, but it's very difficult to write error messages that will be useful in every situation. When faced with an error message you don't understand, it's good practice to Google it (literally just copy the error message and paste it into Google) to see if anyone else has encountered that error. StackOverflow is especially helpful. Try it with the following error message, and fix the code so that it gives you the electrostatic force in Dynes.\n"
   ]
  },
  {
   "cell_type": "code",
   "execution_count": null,
   "metadata": {},
   "outputs": [],
   "source": [
    "from astropy import units as u, constants as cst\n",
    "\n",
    "# calculate electrostatic force between proton and electron\n",
    "force = cst.e**2 / (1 * u.angstrom)**2"
   ]
  },
  {
   "cell_type": "markdown",
   "metadata": {},
   "source": [
    "### Activity #3\n",
    "\n",
    "Let's play with the .fits file we accessed above a little more. \n",
    "- Access the readout time from `my_file` below and store it in a variable `readtime`. \n",
    "- Figure out how to access the data. Make a plot of one of the science exposures (use `pyplot.imshow()`)."
   ]
  },
  {
   "cell_type": "code",
   "execution_count": null,
   "metadata": {},
   "outputs": [],
   "source": [
    "from astropy.io import fits\n",
    "import matplotlib.pyplot as plt\n",
    "\n",
    "fits_image_filename = fits.util.get_testdata_filepath('test0.fits')\n",
    "hdul = fits.open(fits_image_filename)\n",
    "\n",
    "hdul.info()\n",
    "my_file = hdul[0].header\n",
    "\n",
    "### Your code here ###\n",
    "\n",
    "\n"
   ]
  },
  {
   "cell_type": "code",
   "execution_count": null,
   "metadata": {},
   "outputs": [],
   "source": []
  }
 ],
 "metadata": {
  "language_info": {
   "name": "python",
   "codemirror_mode": {
    "name": "ipython",
    "version": 3
   },
   "version": "3.7.6-final"
  },
  "orig_nbformat": 2,
  "file_extension": ".py",
  "mimetype": "text/x-python",
  "name": "python",
  "npconvert_exporter": "python",
  "pygments_lexer": "ipython3",
  "version": 3,
  "kernelspec": {
   "name": "python37664bitpython37conda5785220be34f4f6fa52b2ff37321b463",
   "display_name": "Python 3.7.6 64-bit ('python3.7': conda)"
  }
 },
 "nbformat": 4,
 "nbformat_minor": 2
}