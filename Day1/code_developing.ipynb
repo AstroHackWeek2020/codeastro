{
 "nbformat": 4,
 "nbformat_minor": 2,
 "metadata": {
  "language_info": {
   "name": "python",
   "codemirror_mode": {
    "name": "ipython",
    "version": 3
   },
   "version": "3.6.5-final"
  },
  "orig_nbformat": 2,
  "file_extension": ".py",
  "mimetype": "text/x-python",
  "name": "python",
  "npconvert_exporter": "python",
  "pygments_lexer": "ipython3",
  "version": 3,
  "kernelspec": {
   "name": "python3",
   "display_name": "Python 3"
  }
 },
 "cells": [
  {
   "cell_type": "markdown",
   "metadata": {},
   "source": [
    "# Software Development Environments"
   ]
  },
  {
   "cell_type": "markdown",
   "metadata": {},
   "source": [
    "## tl;dr\n",
    "\n",
    " * Integrated Development Environments (IDEs): we recommend you use one for software development ✔\n",
    " * Jupyter notebooks: great for tutorials and as a playground for getting familiar with code, but not great for software engineering 🚸\n",
    " * plain text editors: try to avoid, although sometimes you have to use on ⛔"
   ]
  },
  {
   "cell_type": "markdown",
   "metadata": {},
   "source": [
    "## Integrated Development Environments (IDEs)\n",
    "\n",
    " * All-in-one that comes with many features to help to code\n",
    " * We think it is worth the (small) effort to learn to use one\n",
    " * The two leading IDEs for Python are VS Code and PyCharm\n",
    " * We will be demoing useful features in VS Code throughout the week\n",
    " * Demo:\n",
    "    * VS Code workspace introduction\n",
    "    * Autocomplete\n",
    "    * Static error checking (linting)\n",
    "    * Git integration\n",
    "    * Extras: SSH integration, marketplace"
   ]
  },
  {
   "cell_type": "markdown",
   "metadata": {},
   "source": [
    "## Jupyter Notebooks \n",
    "\n",
    " * Combination of code cells and Markdown text cells make it useful for writing tutorials\n",
    " * Running/rerunning one cell at a time allows you to play around with the code/understand how it works\n",
    " * Useful for plotting, solving a problem (think of it as a document)\n",
    " * Output depends on order cells and run/rerun -> not good for repeatibility\n",
    " * Not designed for programming a software package"
   ]
  },
  {
   "cell_type": "markdown",
   "metadata": {},
   "source": [
    "## Plain text editors\n",
    "\n",
    "* The \"old-school\" editors (e.g., vim, emacs, nano, notepad++)\n",
    "* We generally recommend you avoid doing large amounts of programing in them as the code is prone to bugs\n",
    "* Sometimes inevitable in astronomy so it is good to learn a little bit of either vim or emacs\n",
    "* You can use VS Code over ssh, so you should not need to use these very often!"
   ]
  },
  {
   "cell_type": "markdown",
   "metadata": {},
   "source": [
    "# Object-Oriented and Functional Programming"
   ]
  },
  {
   "cell_type": "markdown",
   "metadata": {},
   "source": [
    "## tl;dr\n",
    "\n",
    " * Object-oriented programming relies on the state of variables to determine the output\n",
    "    * Good to keep track of something that is changing (e.g., the number of people in a Zoom meeting)\n",
    " * Functional programming relies solely on the inputs, which do not change, to determine the output\n",
    "    * Good for math equations (e.g., computing the inverse of a matrix)\n",
    " * Typically, you will want a mix of both programming paradigms"
   ]
  },
  {
   "cell_type": "markdown",
   "metadata": {},
   "source": [
    "## Object-Oriented Programming\n",
    " \n",
    "![](../imgs/oo-meme.png)"
   ]
  },
  {
   "cell_type": "code",
   "execution_count": 14,
   "metadata": {},
   "outputs": [
    {
     "output_type": "error",
     "ename": "SyntaxError",
     "evalue": "invalid syntax (<ipython-input-14-a93493460fef>, line 8)",
     "traceback": [
      "\u001b[1;36m  File \u001b[1;32m\"<ipython-input-14-a93493460fef>\"\u001b[1;36m, line \u001b[1;32m8\u001b[0m\n\u001b[1;33m    def __init__(height)\u001b[0m\n\u001b[1;37m                        ^\u001b[0m\n\u001b[1;31mSyntaxError\u001b[0m\u001b[1;31m:\u001b[0m invalid syntax\n"
     ]
    }
   ],
   "source": [
    "# Object-Oriented Programming\n",
    "import astropy.units as u\n",
    "\n",
    "class FreeFallParticle(object):\n",
    "    \"\"\"\n",
    "    Simulate a particle falling in gravity from a height in meters\n",
    "\n",
    "    Args:\n",
    "        height (float): a height in meters\n",
    "        dt (float): timestep of the simulation in seconds\n",
    "    \"\"\"\n",
    "    def __init__(height, dt=1):\n",
    "        self.height = height * u.m\n",
    "        self.time = 0 * u.s\n",
    "        self.dt = dt * u.s\n",
    "\n",
    "    def timestep(self):\n",
    "        \"\"\"\n",
    "        Step forward in time. Return the current height of the object\n",
    "\n",
    "        Returns:\n",
    "            curr_height (float): current height\n",
    "        \"\"\"\n",
    "        \n",
    "\n"
   ]
  },
  {
   "cell_type": "markdown",
   "metadata": {},
   "source": [
    "## Object Oriented Programming\n",
    "    \n",
    " * Depends on changing (mutable) state: `self.curr_value`\n",
    " * Most things in the world change, so it makes sense to frame things in this way\n",
    " * Object creation is generally slow. Object-oriented code can suffer performance issues from too many objects.\n",
    "   * Dollar amounts can only have two decimal points. Do we need a `DollarAmount` class to replace the `float`?\n",
    " * What happens if there is a bug in the bank account code and `self.curr_value` is incorrect?"
   ]
  },
  {
   "cell_type": "code",
   "execution_count": 13,
   "metadata": {},
   "outputs": [
    {
     "output_type": "stream",
     "name": "stdout",
     "text": "Account balance: 100\nCash I have 10.49\nNew Account balance: 89.51\nOld Account balance: 100\n"
    }
   ],
   "source": [
    "# Functional Programming Example. \n",
    "\n",
    "class BankLedger(object):\n",
    "    \"\"\"\n",
    "    A record of bank transactions for a bank account. Past transactions are fixed -- they are a record and don't change\n",
    "\n",
    "    Args:\n",
    "        transactions (tuple of floats): each element is a dollar amount. + if deposit, - if withdrawl\n",
    "    \"\"\"\n",
    "    def __init__(self, transactions):\n",
    "        self.transactions = transactions\n",
    "    \n",
    "def check_balance(ledger):\n",
    "    \"\"\"\n",
    "    Computes the current value of a bank account based on its transactions\n",
    "\n",
    "    Args:\n",
    "        leger(BankLedger): bank account ledger\n",
    "    \"\"\"\n",
    "    curr_value = 0\n",
    "    for value in ledger.transactions:\n",
    "        curr_value = curr_value + value\n",
    "    return curr_value\n",
    "\n",
    "def withdraw(ledger, amount):\n",
    "    \"\"\"\n",
    "    Withdraws money from the bank account if there's sufficient funds\n",
    "\n",
    "    Args:\n",
    "        ledger (BankLedger): record of transactions for bank accoutn\n",
    "        amount (float): amount you want to withdraw\n",
    "    Returns:\n",
    "        BankLedger: the new bank ledger with the withdrawl recorded\n",
    "        float: amount you succesfully withdrew\n",
    "    \"\"\"\n",
    "    curr_value = check_balance(ledger)\n",
    "    if curr_value < amount:\n",
    "        print(\"Insufficient funds\")\n",
    "        return ledger, 0\n",
    "    else:\n",
    "        tot_transactions = ledger.transactions + (-amount,)\n",
    "        new_ledger = BankLedger(tot_transactions) # a totally new bank ledger gets created!\n",
    "        return new_ledger, amount\n",
    "\n",
    "bank_transactions = (100,)\n",
    "ledger1 = BankLedger(bank_transactions)\n",
    "print(\"Account balance:\", check_balance(ledger1))\n",
    "ledger2, cash = withdraw(ledger1, 10.49)\n",
    "print(\"Cash I have\", cash)\n",
    "print(\"New Account balance:\", check_balance(ledger2))\n",
    "print(\"Old Account balance:\", check_balance(ledger1))\n"
   ]
  },
  {
   "cell_type": "markdown",
   "metadata": {},
   "source": [
    "## Functional Programming\n",
    "\n",
    " * Functions outputs depend solely on the inputs\n",
    " * Functional programming != no objects. Objects however are static data structures.\n",
    " * In functional programming, each object does not change. You need to create a new object \n",
    " * Useful for math problems, physics equations, unit conversions\n",
    "    * `import astropy.units as u; u.m.to(u.nm)`"
   ]
  },
  {
   "cell_type": "markdown",
   "metadata": {},
   "source": [
    "# Object Oriented vs Functional Programming\n",
    "\n",
    " * Object oriented programming is good when things change (e.g., the position of a planet, the current image being analyzed)\n",
    " * Functional programming is good to deterministic things (e.g., math equations, making sure you do not accidentally apply the same application twice)\n",
    " * Object oriented, as its name implies, focuses on objects more and funtional programming focuses on functions more BUT both will use both\n",
    " * Funtional programming objects will not change. You create new variables instead of "
   ]
  },
  {
   "cell_type": "markdown",
   "metadata": {},
   "source": [
    "# Activity\n",
    "\n",
    "Implement something with both functional and object oriented programming paradigms. You can work on the \n"
   ]
  },
  {
   "cell_type": "code",
   "execution_count": null,
   "metadata": {},
   "outputs": [],
   "source": []
  }
 ]
}