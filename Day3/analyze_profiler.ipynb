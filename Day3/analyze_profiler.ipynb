{
 "cells": [
  {
   "cell_type": "markdown",
   "metadata": {},
   "source": [
    "# Analyze the cProfile output\n",
    "\n",
    "We will use the `pstats` module to read and analyze the outupt of the profiler.\n"
   ]
  },
  {
   "cell_type": "code",
   "execution_count": 23,
   "metadata": {},
   "outputs": [],
   "source": [
    "import pstats\n",
    "mystats = pstats.Stats(\"profiler_output.txt\")"
   ]
  },
  {
   "cell_type": "markdown",
   "metadata": {},
   "source": [
    "## Display the top 15 functions that took the longest time to run\n",
    "\n",
    "Even in such a short script, python called millions of function! A lot of them are super quick and really not what we are after. Typically, we want to find the few functions that are bottlenecks in our code.\n",
    "\n",
    "The function below sorts the functions by which took the longest to run, and prints out only the stats of the top 15 functions that took longest to run. The columns below mean:\n",
    "  * ncalls: number of times this function was called\n",
    "  * tottime: the total execution time spent in this code NOT including calls to other functions\n",
    "  * percall: this first percall divides tottime by ncalls. The amount of time per call spent solely in this function.\n",
    "  * cumtime: the total execution time spent in this code INCLUDING calls to sub functions. `cumtime > tottime always.\n",
    "  * percall: second percall divides cumtime by ncalls\n",
    "  * filename: the name of the function being considered\n",
    "\n",
    "Both `tottime` and `cumtime` are useful. A function with a high `tottime` means we should focus on speeding up this function. A function with only a high `cumtime` means we should see what this function is calling to improve runtime.\n",
    "  * `_newton_solver()` is a function with a higher tottime. We should look at the lines in that function to check out how to speed it up.\n",
    "  * `_logl()` is a function with a low tottime but a very high `cumtime`. We should look at the functions it calls to figure out what takes up so much time.\n",
    "\n",
    "Generally, we want to put some filters on `print_stats`, becuase otherwise there will be so much printed out it is unmanageable. \n"
   ]
  },
  {
   "cell_type": "code",
   "execution_count": 11,
   "metadata": {
    "tags": [
     "outputPrepend",
     "outputPrepend",
     "outputPrepend",
     "outputPrepend",
     "outputPrepend",
     "outputPrepend",
     "outputPrepend",
     "outputPrepend",
     "outputPrepend",
     "outputPrepend",
     "outputPrepend",
     "outputPrepend",
     "outputPrepend",
     "outputPrepend",
     "outputPrepend",
     "outputPrepend",
     "outputPrepend",
     "outputPrepend",
     "outputPrepend",
     "outputPrepend",
     "outputPrepend",
     "outputPrepend",
     "outputPrepend",
     "outputPrepend",
     "outputPrepend",
     "outputPrepend",
     "outputPrepend",
     "outputPrepend",
     "outputPrepend",
     "outputPrepend",
     "outputPrepend",
     "outputPrepend",
     "outputPrepend"
    ]
   },
   "outputs": [
    {
     "output_type": "stream",
     "name": "stdout",
     "text": "Thu Jun 11 18:14:25 2020    profiler_output.txt\n\n         3100667 function calls (3058377 primitive calls) in 68.937 seconds\n\n   Ordered by: internal time\n   List reduced from 5237 to 15 due to restriction <15>\n\n   ncalls  tottime  percall  cumtime  percall filename:lineno(function)\n      774   17.867    0.023   19.654    0.025 c:\\users\\jason\\github\\orbitize\\orbitize\\kepler.py:173(_newton_solver)\n      774   14.742    0.019   44.324    0.057 c:\\users\\jason\\github\\orbitize\\orbitize\\kepler.py:17(calc_orbit)\n      387    7.687    0.020    7.769    0.020 c:\\users\\jason\\github\\orbitize\\orbitize\\lnlike.py:8(chi2_lnlike)\n      774    3.166    0.004    3.166    0.004 c:\\users\\jason\\github\\orbitize\\orbitize\\system.py:379(radec2seppa)\n      774    2.639    0.003   24.979    0.032 c:\\users\\jason\\github\\orbitize\\orbitize\\kepler.py:111(_calc_ecc_anom)\n24227/23171    2.501    0.000    3.992    0.000 {built-in method numpy.core._multiarray_umath.implement_array_function}\n    13946    1.919    0.000    1.919    0.000 {function Quantity.__array_ufunc__ at 0x000001D8E94D2A60}\n    31504    1.572    0.000    1.572    0.000 {built-in method numpy.array}\n      387    1.328    0.003   41.250    0.107 c:\\users\\jason\\github\\orbitize\\orbitize\\system.py:184(compute_model)\n      774    1.185    0.002    1.185    0.002 c:\\users\\jason\\github\\orbitize\\orbitize\\kepler.py:245(_mikkola_solver)\n     2322    1.107    0.000    1.107    0.000 {method 'normal' of 'numpy.random.mtrand.RandomState' objects}\n      387    0.912    0.002   12.849    0.033 c:\\users\\jason\\github\\orbitize\\orbitize\\sampler.py:186(prepare_samples)\n     2322    0.608    0.000    0.608    0.000 {method 'uniform' of 'numpy.random.mtrand.RandomState' objects}\n      387    0.605    0.002   50.628    0.131 c:\\users\\jason\\github\\orbitize\\orbitize\\sampler.py:49(_logl)\n      387    0.457    0.001   51.262    0.132 c:\\users\\jason\\github\\orbitize\\orbitize\\sampler.py:282(reject)\n\n\n"
    },
    {
     "output_type": "execute_result",
     "data": {
      "text/plain": "<pstats.Stats at 0x28226a29908>"
     },
     "metadata": {},
     "execution_count": 11
    }
   ],
   "source": [
    "mystats.sort_stats(\"time\").print_stats(15)"
   ]
  },
  {
   "cell_type": "markdown",
   "metadata": {},
   "source": [
    "## Investigate why `_logl` takes so long\n",
    "\n",
    "The `_logl()` function itself has a short runtime but it is calling something that takes a long time that makes it have a long `cumtime`. We can use the `print_callees()` function to look at the stats of all the functions it calls.\n",
    "\n",
    "We can see that `compute_model` is the function with the highest cumtime, but its tottime is low, so we something it calls takes all the time. We must dig deeper!"
   ]
  },
  {
   "cell_type": "code",
   "execution_count": 24,
   "metadata": {},
   "outputs": [
    {
     "output_type": "stream",
     "name": "stdout",
     "text": "Ordered by: call count\n   List reduced from 5237 to 1 due to restriction <'_logl'>\n\nFunction                                                      called...\n                                                                  ncalls  tottime  cumtime\nc:\\users\\jason\\github\\orbitize\\orbitize\\sampler.py:49(_logl)  ->     387    0.003    0.979  <__array_function__ internals>:2(nansum)\n                                                                    1548    0.006    0.011  C:\\Users\\Jason\\Anaconda3\\lib\\site-packages\\astropy\\table\\table.py:1600(__getitem__)\n                                                                     387    7.687    7.769  c:\\users\\jason\\github\\orbitize\\orbitize\\lnlike.py:8(chi2_lnlike)\n                                                                     387    1.328   41.250  c:\\users\\jason\\github\\orbitize\\orbitize\\system.py:184(compute_model)\n                                                                     774    0.015    0.015  {built-in method numpy.array}\n\n\n"
    },
    {
     "output_type": "execute_result",
     "data": {
      "text/plain": "<pstats.Stats at 0x28226a29908>"
     },
     "metadata": {},
     "execution_count": 24
    }
   ],
   "source": [
    "mystats.print_callees('_logl')"
   ]
  },
  {
   "cell_type": "markdown",
   "metadata": {},
   "source": [
    "Let's dig deeper and check what slows down `compute_model`. \n",
    "\n",
    "It looks like it there's more of a rabbit hole. We can keep going, but let's stop here in the interest of time. "
   ]
  },
  {
   "cell_type": "code",
   "execution_count": 25,
   "metadata": {},
   "outputs": [
    {
     "output_type": "stream",
     "name": "stdout",
     "text": "Ordered by: internal time\n   List reduced from 5237 to 1 due to restriction <'compute_model'>\n\nFunction                                                              called...\n                                                                          ncalls  tottime  cumtime\nc:\\users\\jason\\github\\orbitize\\orbitize\\system.py:184(compute_model)  ->     387    0.003    0.005  C:\\Users\\Jason\\Anaconda3\\lib\\site-packages\\astropy\\table\\table.py:1600(__getitem__)\n                                                                             387   12.711   37.174  c:\\users\\jason\\github\\orbitize\\orbitize\\kepler.py:17(calc_orbit)\n                                                                             387    2.705    2.705  c:\\users\\jason\\github\\orbitize\\orbitize\\system.py:379(radec2seppa)\n                                                                            3096    0.005    0.009  {built-in method builtins.len}\n                                                                             387    0.004    0.004  {built-in method numpy.arange}\n                                                                             774    0.024    0.024  {built-in method numpy.zeros}\n\n\n"
    },
    {
     "output_type": "execute_result",
     "data": {
      "text/plain": "<pstats.Stats at 0x28226a29908>"
     },
     "metadata": {},
     "execution_count": 25
    }
   ],
   "source": [
    "mystats.sort_stats(\"time\").print_callees('compute_model')\n"
   ]
  },
  {
   "cell_type": "markdown",
   "metadata": {},
   "source": [
    "We can also apply multiple filters. For example let's look at the top 15 numpy functions that took the most time to run. Note that the order of the filtering matters. This command first selects every function with numpy in the name, followed by taking the top 15. Calling `print_states(15, 'numpy')` would pick the top 15 longest runtime functions, and downselecting which has numpy in the name from those. That would give us less than 15 numpy functions."
   ]
  },
  {
   "cell_type": "code",
   "execution_count": 26,
   "metadata": {
    "tags": [
     "outputPrepend",
     "outputPrepend",
     "outputPrepend",
     "outputPrepend"
    ]
   },
   "outputs": [
    {
     "output_type": "stream",
     "name": "stdout",
     "text": "Thu Jun 11 18:14:25 2020    profiler_output.txt\n\n         3100667 function calls (3058377 primitive calls) in 68.937 seconds\n\n   Ordered by: internal time\n   List reduced from 5237 to 483 due to restriction <'numpy'>\n   List reduced from 483 to 15 due to restriction <15>\n\n   ncalls  tottime  percall  cumtime  percall filename:lineno(function)\n24227/23171    2.501    0.000    3.992    0.000 {built-in method numpy.core._multiarray_umath.implement_array_function}\n    31504    1.572    0.000    1.572    0.000 {built-in method numpy.array}\n     2322    1.107    0.000    1.107    0.000 {method 'normal' of 'numpy.random.mtrand.RandomState' objects}\n     2322    0.608    0.000    0.608    0.000 {method 'uniform' of 'numpy.random.mtrand.RandomState' objects}\n      387    0.212    0.001    0.212    0.001 {method 'repeat' of 'numpy.ndarray' objects}\n     1257    0.155    0.000    0.155    0.000 {method 'reduce' of 'numpy.ufunc' objects}\n      387    0.152    0.000    0.716    0.002 C:\\Users\\Jason\\Anaconda3\\lib\\site-packages\\numpy\\lib\\nanfunctions.py:70(_replace_nan)\n    46670    0.126    0.000    0.154    0.000 {method 'view' of 'numpy.ndarray' objects}\n      387    0.107    0.000    0.107    0.000 {method 'random' of 'numpy.random.mtrand.RandomState' objects}\n     1243    0.025    0.000    0.025    0.000 {built-in method numpy.zeros}\n     1935    0.025    0.000    0.038    0.000 C:\\Users\\Jason\\Anaconda3\\lib\\site-packages\\numpy\\core\\numeric.py:1215(rollaxis)\n     3162    0.019    0.000    0.057    0.000 C:\\Users\\Jason\\Anaconda3\\lib\\site-packages\\numpy\\core\\numeric.py:1786(isscalar)\n     1239    0.018    0.000    0.018    0.000 {built-in method numpy.empty}\n      774    0.017    0.000    0.251    0.000 C:\\Users\\Jason\\Anaconda3\\lib\\site-packages\\numpy\\lib\\shape_base.py:1169(tile)\n     1226    0.015    0.000    0.176    0.000 C:\\Users\\Jason\\Anaconda3\\lib\\site-packages\\numpy\\core\\fromnumeric.py:73(_wrapreduction)\n\n\n"
    },
    {
     "output_type": "execute_result",
     "data": {
      "text/plain": "<pstats.Stats at 0x28226a29908>"
     },
     "metadata": {},
     "execution_count": 26
    }
   ],
   "source": [
    "mystats.sort_stats(\"time\").print_stats('numpy', 15)"
   ]
  },
  {
   "cell_type": "markdown",
   "metadata": {},
   "source": [
    "`numpy.array` gets called over 30,000 times. We can see which functions call it to look into potentially reducing the number of array creations to speed up the code. "
   ]
  },
  {
   "cell_type": "code",
   "execution_count": 22,
   "metadata": {},
   "outputs": [
    {
     "output_type": "stream",
     "name": "stdout",
     "text": "Ordered by: call count\n   List reduced from 5237 to 1 due to restriction <'numpy.array'>\n\nFunction                       was called by...\n                                   ncalls  tottime  cumtime\n{built-in method numpy.array}  <-      77    0.000    0.000  C:\\Users\\Jason\\Anaconda3\\lib\\site-packages\\astropy\\constants\\constant.py:85(__new__)\n                                        7    0.000    0.000  C:\\Users\\Jason\\Anaconda3\\lib\\site-packages\\astropy\\io\\ascii\\core.py:841(convert_numpy)\n                                       34    0.000    0.000  C:\\Users\\Jason\\Anaconda3\\lib\\site-packages\\astropy\\table\\column.py:218(__new__)\n                                     5481    0.192    0.192  C:\\Users\\Jason\\Anaconda3\\lib\\site-packages\\astropy\\units\\quantity.py:290(__new__)\n                                    16284    0.027    0.027  C:\\Users\\Jason\\Anaconda3\\lib\\site-packages\\astropy\\units\\quantity.py:551(_new_view)\n                                        3    0.000    0.000  C:\\Users\\Jason\\Anaconda3\\lib\\site-packages\\matplotlib\\bezier.py:147(BezierSegment)\n                                     1252    0.003    0.003  C:\\Users\\Jason\\Anaconda3\\lib\\site-packages\\matplotlib\\colors.py:185(_to_rgba_no_colorcycle)\n                                        4    0.000    0.000  C:\\Users\\Jason\\Anaconda3\\lib\\site-packages\\matplotlib\\colors.py:344(makeMappingArray)\n                                       10    0.000    0.000  C:\\Users\\Jason\\Anaconda3\\lib\\site-packages\\matplotlib\\tri\\triinterpolate.py:593(_ReducedHCT_Element)\n                                      947    0.011    0.011  C:\\Users\\Jason\\Anaconda3\\lib\\site-packages\\numpy\\core\\_asarray.py:16(asarray)\n                                      559    0.002    0.002  C:\\Users\\Jason\\Anaconda3\\lib\\site-packages\\numpy\\core\\_asarray.py:88(asanyarray)\n                                       36    0.000    0.000  C:\\Users\\Jason\\Anaconda3\\lib\\site-packages\\numpy\\core\\getlimits.py:41(<lambda>)\n                                       30    0.000    0.000  C:\\Users\\Jason\\Anaconda3\\lib\\site-packages\\numpy\\core\\getlimits.py:43(<lambda>)\n                                      774    0.003    0.003  C:\\Users\\Jason\\Anaconda3\\lib\\site-packages\\numpy\\core\\numeric.py:283(full)\n                                      774    0.267    0.267  C:\\Users\\Jason\\Anaconda3\\lib\\site-packages\\numpy\\lib\\function_base.py:730(copy)\n                                      112    0.000    0.000  C:\\Users\\Jason\\Anaconda3\\lib\\site-packages\\numpy\\lib\\function_base.py:4429(insert)\n                                      387    0.522    0.522  C:\\Users\\Jason\\Anaconda3\\lib\\site-packages\\numpy\\lib\\nanfunctions.py:70(_replace_nan)\n                                      774    0.014    0.014  C:\\Users\\Jason\\Anaconda3\\lib\\site-packages\\numpy\\lib\\shape_base.py:1169(tile)\n                                       45    0.001    0.001  C:\\Users\\Jason\\Anaconda3\\lib\\site-packages\\numpy\\ma\\core.py:2782(__new__)\n                                        4    0.000    0.000  C:\\Users\\Jason\\Anaconda3\\lib\\site-packages\\numpy\\ma\\core.py:6358(__new__)\n                                        4    0.000    0.000  C:\\Users\\Jason\\Anaconda3\\lib\\site-packages\\numpy\\polynomial\\chebyshev.py:89(<module>)\n                                        2    0.000    0.000  C:\\Users\\Jason\\Anaconda3\\lib\\site-packages\\numpy\\polynomial\\chebyshev.py:1966(Chebyshev)\n                                        4    0.000    0.000  C:\\Users\\Jason\\Anaconda3\\lib\\site-packages\\numpy\\polynomial\\hermite.py:60(<module>)\n                                        2    0.000    0.000  C:\\Users\\Jason\\Anaconda3\\lib\\site-packages\\numpy\\polynomial\\hermite.py:1627(Hermite)\n                                        4    0.000    0.000  C:\\Users\\Jason\\Anaconda3\\lib\\site-packages\\numpy\\polynomial\\hermite_e.py:60(<module>)\n                                        2    0.000    0.000  C:\\Users\\Jason\\Anaconda3\\lib\\site-packages\\numpy\\polynomial\\hermite_e.py:1621(HermiteE)\n                                        4    0.000    0.000  C:\\Users\\Jason\\Anaconda3\\lib\\site-packages\\numpy\\polynomial\\laguerre.py:60(<module>)\n                                        2    0.000    0.000  C:\\Users\\Jason\\Anaconda3\\lib\\site-packages\\numpy\\polynomial\\laguerre.py:1578(Laguerre)\n                                        4    0.000    0.000  C:\\Users\\Jason\\Anaconda3\\lib\\site-packages\\numpy\\polynomial\\legendre.py:83(<module>)\n                                        2    0.000    0.000  C:\\Users\\Jason\\Anaconda3\\lib\\site-packages\\numpy\\polynomial\\legendre.py:1613(Legendre)\n                                        4    0.000    0.000  C:\\Users\\Jason\\Anaconda3\\lib\\site-packages\\numpy\\polynomial\\polynomial.py:57(<module>)\n                                        2    0.001    0.001  C:\\Users\\Jason\\Anaconda3\\lib\\site-packages\\numpy\\polynomial\\polynomial.py:1442(Polynomial)\n                                      387    0.005    0.005  c:\\users\\jason\\github\\orbitize\\orbitize\\kepler.py:17(calc_orbit)\n                                     1548    0.490    0.490  c:\\users\\jason\\github\\orbitize\\orbitize\\kepler.py:173(_newton_solver)\n                                      774    0.015    0.015  c:\\users\\jason\\github\\orbitize\\orbitize\\sampler.py:49(_logl)\n                                        3    0.000    0.000  c:\\users\\jason\\github\\orbitize\\orbitize\\sampler.py:112(__init__)\n                                     1161    0.019    0.019  c:\\users\\jason\\github\\orbitize\\orbitize\\sampler.py:282(reject)\n                                        1    0.000    0.000  c:\\users\\jason\\github\\orbitize\\orbitize\\sampler.py:372(run_sampler)\n\n\n"
    },
    {
     "output_type": "execute_result",
     "data": {
      "text/plain": "<pstats.Stats at 0x28226a29908>"
     },
     "metadata": {},
     "execution_count": 22
    }
   ],
   "source": [
    "mystats.print_callers('numpy.array')"
   ]
  },
  {
   "cell_type": "markdown",
   "metadata": {},
   "source": [
    "# Code Profiling Strategy\n",
    "\n",
    "Generally, it is important to focus your effort on speeding up the 1 or 2 slowest functions. If you speed up something that takes 50% of the runtime by a factor of 100, you speed up the code by a factor of 2. Even if a piece of code takes 10% of the runtime, a factor of 2 improvement (which by itself is often hard to get) only gives you a 5% improvement in the end. **Focus your effort on optimizing the runtime of the one or two functions that take the most amount of time.**\n",
    "\n",
    "For all else, it is generally more important to optimize code readibility over runtime. Code that is more readible is less prone to bugs and eaiser to maintain. If a piece of code takes only 0.0001% of the runtime, any amount of speed up is not worth making the code hard to read (from a person-hour perspective). Many times, it is difficult to gain more than a factor of 2 speed up in runtime. Definitely think about the potential gain in speed-up versus how long it takes to write and maintian the code."
   ]
  },
  {
   "cell_type": "code",
   "execution_count": null,
   "metadata": {},
   "outputs": [],
   "source": []
  }
 ],
 "metadata": {
  "language_info": {
   "codemirror_mode": {
    "name": "ipython",
    "version": 3
   },
   "file_extension": ".py",
   "mimetype": "text/x-python",
   "name": "python",
   "nbconvert_exporter": "python",
   "pygments_lexer": "ipython3",
   "version": "3.6.5-final"
  },
  "orig_nbformat": 2,
  "kernelspec": {
   "name": "python3",
   "display_name": "Python 3"
  }
 },
 "nbformat": 4,
 "nbformat_minor": 2
}